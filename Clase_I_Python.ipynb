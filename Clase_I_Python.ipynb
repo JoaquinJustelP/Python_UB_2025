{
  "nbformat": 4,
  "nbformat_minor": 0,
  "metadata": {
    "colab": {
      "provenance": []
    },
    "kernelspec": {
      "name": "python3",
      "display_name": "Python 3"
    },
    "language_info": {
      "name": "python"
    }
  },
  "cells": [
    {
      "cell_type": "markdown",
      "source": [
        "# **Introducción a Python**"
      ],
      "metadata": {
        "id": "s-lN9NOwsi45"
      }
    },
    {
      "cell_type": "markdown",
      "source": [
        "## **¿Qué es?**\n",
        "\n",
        "Python es un lenguaje de programación de alto nivel, interpretado, dinámico y multiparadigma.\n",
        "\n",
        "Creado en 1991 pero con popularidad creciente en los últimos años gracias a su legibilidad, sintaxis clara y gran cantidad de bibiliotecas y frameworks disponibles.\n",
        "\n",
        "Se utiliza en una amplia variedad de aplicaciones como análisis de datos, inteligencia artificial, aprendizaje automático, desarrollo web y otras áreas de la informática.\n",
        "\n",
        "Documentación : https://docs.python.org/3/"
      ],
      "metadata": {
        "id": "Vwd7q-ous3E2"
      }
    },
    {
      "cell_type": "markdown",
      "source": [
        "### **Dinamic Typing**\n",
        "\n",
        "Python usa escritura dinámica, lo que significa que puede reasignar variables a diferentes tipos de datos. Esto hace que Python sea muy flexible en la asignación de tipos de datos; se diferencia de otros idiomas que se escriben estáticamente."
      ],
      "metadata": {
        "id": "hCMZyF0Tr2pE"
      }
    },
    {
      "cell_type": "code",
      "source": [
        "mis_perros = 2\n",
        "mis_perros"
      ],
      "metadata": {
        "id": "gqzsfdj0sDVy"
      },
      "execution_count": null,
      "outputs": []
    },
    {
      "cell_type": "code",
      "source": [
        "mis_perros=['Thor','Loki']\n",
        "mis_perros"
      ],
      "metadata": {
        "id": "0_grP68RsHzN"
      },
      "execution_count": null,
      "outputs": []
    },
    {
      "cell_type": "markdown",
      "source": [
        "**Pros y contras**\n",
        "\n",
        "Pros:\n",
        "\n",
        "\n",
        "*   Fácil de trabajar con ello\n",
        "*   Menor tiempo de desarrollo\n",
        "\n",
        "Contras:\n",
        "\n",
        "\n",
        "*   Pueden salir errores inesperados\n",
        "*   Hay que tener en cuenta el tipo (`type()`)\n",
        "\n",
        "\n",
        "\n"
      ],
      "metadata": {
        "id": "7wykKdwssdaa"
      }
    },
    {
      "cell_type": "markdown",
      "metadata": {
        "id": "N0sZKCLbYx3A"
      },
      "source": [
        "## **Types**\n",
        "\n",
        "Para saber el tipo de variable podemos usar la función `type()`\n"
      ]
    },
    {
      "cell_type": "code",
      "execution_count": null,
      "metadata": {
        "id": "qxMd3hVUYx3A"
      },
      "outputs": [],
      "source": [
        "type(1)"
      ]
    },
    {
      "cell_type": "code",
      "execution_count": null,
      "metadata": {
        "id": "VVa7vfofYx3B"
      },
      "outputs": [],
      "source": [
        "type(3.1415)"
      ]
    },
    {
      "cell_type": "code",
      "execution_count": null,
      "metadata": {
        "id": "XQnwywKSYx3B"
      },
      "outputs": [],
      "source": [
        "type('whatIam')"
      ]
    },
    {
      "cell_type": "code",
      "execution_count": null,
      "metadata": {
        "id": "vbtS2PYiYx3B"
      },
      "outputs": [],
      "source": [
        "var = 0\n",
        "type(var)"
      ]
    },
    {
      "cell_type": "markdown",
      "metadata": {
        "id": "HQe8_gRHO3iO"
      },
      "source": [
        "##  **Assignment statements**\n",
        "Una asignación crea una nueva variable y le da un valor:"
      ]
    },
    {
      "cell_type": "code",
      "execution_count": null,
      "metadata": {
        "id": "St6SmIeiO3iP"
      },
      "outputs": [],
      "source": [
        "a = 'hola'\n",
        "a2 = 'hola de nuevo'\n",
        "a_b = '...?'\n",
        "n = 7"
      ]
    },
    {
      "cell_type": "code",
      "execution_count": null,
      "metadata": {
        "id": "4XAH_tWMO3iP"
      },
      "outputs": [],
      "source": [
        "print(a_b)"
      ]
    },
    {
      "cell_type": "code",
      "source": [
        "a"
      ],
      "metadata": {
        "id": "miOZ2z7SciZo"
      },
      "execution_count": null,
      "outputs": []
    },
    {
      "cell_type": "markdown",
      "source": [
        "Hay ciertos nombres para asignar a las variables que se deben evitar porque podemos obtener errores."
      ],
      "metadata": {
        "id": "JjVWIi6ScjVH"
      }
    },
    {
      "cell_type": "code",
      "source": [
        "class= '¿Funcionará?'"
      ],
      "metadata": {
        "id": "9IUPjjIycpv4"
      },
      "execution_count": null,
      "outputs": []
    },
    {
      "cell_type": "markdown",
      "source": [
        "Resulta que `class` es un \"keyword\" de Python. El intérprete usa palabras clave para reconocer la estructura del programa y no se pueden usar como nombres de variables. Algunos ejemplos de palabras clave de Python son:\n",
        "\n",
        "```python\n",
        "\n",
        "False    class      finally    is         return\n",
        "None     continue   for        lambda     try\n",
        "True     def        from       nonlocal   while\n",
        "and      del        global     not        with\n",
        "as       elif       if         or         yield\n",
        "assert   else       import     pass\n",
        "break    except     in         raise\n",
        "```"
      ],
      "metadata": {
        "id": "0ene8wHYct9Q"
      }
    },
    {
      "cell_type": "markdown",
      "source": [
        "## **Operadores**\n",
        "\n",
        "La siguiente tabla resume los operadores aritméticos en Python y cómo funcionan:\n",
        "\n",
        "+ Suma: **`+`**\n",
        "+ Resta: **`-`**\n",
        "+ Multiplicación: **`*`**\n",
        "+ Division (siempre devuelve `float`): **`/`**\n",
        "+ División de piso o \"floor division\" (siempre devuelve `int`): **`//`**\n",
        "+ Exponenciación: `**`\n",
        "+ Módulo (devuelve el resto de una división): **`%`**\n",
        "\n",
        "Cuando se usan con tipos numéricos, se comportan como operaciones matemáticas normales."
      ],
      "metadata": {
        "id": "x9_nG9_zdNCP"
      }
    },
    {
      "cell_type": "code",
      "source": [
        "2+2"
      ],
      "metadata": {
        "id": "swuTxtANfjfH"
      },
      "execution_count": null,
      "outputs": []
    },
    {
      "cell_type": "code",
      "source": [
        "4-3"
      ],
      "metadata": {
        "id": "LTOd6cI8fkym"
      },
      "execution_count": null,
      "outputs": []
    },
    {
      "cell_type": "code",
      "source": [
        "3*3"
      ],
      "metadata": {
        "id": "5Scm1MgPfl9W"
      },
      "execution_count": null,
      "outputs": []
    },
    {
      "cell_type": "code",
      "source": [
        "6/4"
      ],
      "metadata": {
        "id": "i4R6cWzyfm-O"
      },
      "execution_count": null,
      "outputs": []
    },
    {
      "cell_type": "code",
      "source": [
        "7//6"
      ],
      "metadata": {
        "id": "ZN1M507JfRj_"
      },
      "execution_count": null,
      "outputs": []
    },
    {
      "cell_type": "code",
      "source": [
        "2**2"
      ],
      "metadata": {
        "id": "JwdRhQ6PfqRv"
      },
      "execution_count": null,
      "outputs": []
    },
    {
      "cell_type": "code",
      "source": [
        "print(25 % 5)\n",
        "print(12 % 5)"
      ],
      "metadata": {
        "id": "LUC4_NjgfdF2"
      },
      "execution_count": null,
      "outputs": []
    },
    {
      "cell_type": "markdown",
      "source": [
        "### Operadores de incremento y decrecimiento\n",
        "\n",
        "Operadores de la forma `+=`, `-=`, `*=`...\n"
      ],
      "metadata": {
        "id": "sfyzcimNgT2I"
      }
    },
    {
      "cell_type": "markdown",
      "source": [
        "Teniendo una variable `a`, queremos sumarle 25. Podríamos hacerlo de la siguiente manera:\n",
        "\n",
        "\n"
      ],
      "metadata": {
        "id": "cnv5wsXHgczv"
      }
    },
    {
      "cell_type": "code",
      "source": [
        "a= 10\n",
        "a= a+25"
      ],
      "metadata": {
        "id": "DZZwFU_Nhtdm"
      },
      "execution_count": null,
      "outputs": []
    },
    {
      "cell_type": "markdown",
      "source": [
        "Sin embargo, podemos usar este tipo de operadores de la siguiente manera:"
      ],
      "metadata": {
        "id": "pMoMNeZPhwVt"
      }
    },
    {
      "cell_type": "code",
      "source": [
        "a= 10\n",
        "a+=25"
      ],
      "metadata": {
        "id": "i6lzXv2_hplu"
      },
      "execution_count": null,
      "outputs": []
    },
    {
      "cell_type": "markdown",
      "source": [
        "Es especialmente útil cuando queremos hacerlo de manera sucesiva ya que tiene la ventaja de que actualiza la variable en la memoria sin crear nuevos objetos."
      ],
      "metadata": {
        "id": "swtrI1D3hpSo"
      }
    },
    {
      "cell_type": "markdown",
      "source": [
        "## **Operaciones de cadena (String operations)**\n",
        "\n",
        "Con las cadenas no podemos realizar operaciones matemáticas, pero sí podemos usar ciertos operadores.\n",
        "\n",
        "Por ejemplo:\n",
        "\n",
        "`+` realiza la concatenación de cadenas.\n",
        "\n",
        "`*` repite la cadena.\n"
      ],
      "metadata": {
        "id": "P1LYT4S-iZTO"
      }
    },
    {
      "cell_type": "code",
      "source": [
        "'Buenas'+'tardes'"
      ],
      "metadata": {
        "id": "8ixAkk2Dlofd"
      },
      "execution_count": null,
      "outputs": []
    },
    {
      "cell_type": "code",
      "source": [
        "'Buenas '+'tardes'"
      ],
      "metadata": {
        "id": "IhISdNDMmnMM"
      },
      "execution_count": null,
      "outputs": []
    },
    {
      "cell_type": "code",
      "source": [
        "'Repíteme'*2"
      ],
      "metadata": {
        "id": "ZbXcw6lQluP1"
      },
      "execution_count": null,
      "outputs": []
    },
    {
      "cell_type": "markdown",
      "source": [
        "Usando `for` podemos acceder a todos los elementos de la cadena:"
      ],
      "metadata": {
        "id": "QH9op2nlpa50"
      }
    },
    {
      "cell_type": "code",
      "source": [
        "for letra in 'Buenas tardes':\n",
        "    print(letra)"
      ],
      "metadata": {
        "id": "gQCIQoSrpQy8"
      },
      "execution_count": null,
      "outputs": []
    },
    {
      "cell_type": "code",
      "source": [
        "s= 'Buenas tardes'\n",
        "len(s) # para conocer la longitud de la cadena"
      ],
      "metadata": {
        "id": "-Vyij3kgBacN"
      },
      "execution_count": null,
      "outputs": []
    },
    {
      "cell_type": "markdown",
      "source": [
        "Las cadenas tienen muchos métodos:"
      ],
      "metadata": {
        "id": "EDcM-WhuRSOl"
      }
    },
    {
      "cell_type": "code",
      "source": [
        "s.capitalize()"
      ],
      "metadata": {
        "id": "ev9wrpfzR4pq"
      },
      "execution_count": null,
      "outputs": []
    },
    {
      "cell_type": "code",
      "source": [
        "s.lower()"
      ],
      "metadata": {
        "id": "2YizK9ePR7cS"
      },
      "execution_count": null,
      "outputs": []
    },
    {
      "cell_type": "code",
      "source": [
        "s.count('a')"
      ],
      "metadata": {
        "id": "vndxNIAmf7l7"
      },
      "execution_count": null,
      "outputs": []
    },
    {
      "cell_type": "code",
      "source": [
        "s.index('t') # los índices empieizan en 0"
      ],
      "metadata": {
        "id": "MI6NKpQZgC8-"
      },
      "execution_count": null,
      "outputs": []
    },
    {
      "cell_type": "code",
      "source": [
        "s.endswith('a todos')"
      ],
      "metadata": {
        "id": "UIRBciOaR9Y1"
      },
      "execution_count": null,
      "outputs": []
    },
    {
      "cell_type": "code",
      "source": [
        "string='p,k,f,n,f,n,f,c,n,w,e,?,k,y,w,n,p,w,o,e,w,v,d  '\n",
        "string"
      ],
      "metadata": {
        "id": "fVZ0yqQnhFVK"
      },
      "execution_count": null,
      "outputs": []
    },
    {
      "cell_type": "markdown",
      "source": [
        "Si quisiéramos dividir el anterior string único por strings con caracteres individuales podríamos hacer lo siguiente:"
      ],
      "metadata": {
        "id": "MGMq3z_P1OEM"
      }
    },
    {
      "cell_type": "code",
      "source": [
        "string_list=string.strip().split(',')\n",
        "print(string_list)"
      ],
      "metadata": {
        "id": "-o5xMoSNhMvN"
      },
      "execution_count": null,
      "outputs": []
    },
    {
      "cell_type": "markdown",
      "source": [
        "El método `strip()` elimina los espacios en blanco iniciales y finales de la cadena string. Esto es útil para eliminar caracteres no deseados, como espacios adicionales al principio o al final de una cadena.\n",
        "\n",
        "Después de aplicar `strip()`, el método `split(',')` divide la cadena en una lista de subcadenas utilizando la coma (,) como delimitador. Esto significa que la cadena se divide en partes cada vez que se encuentra una coma."
      ],
      "metadata": {
        "id": "fx2zmB9Kh-AA"
      }
    },
    {
      "cell_type": "markdown",
      "source": [
        "El método .join() es la inversa al método .split()"
      ],
      "metadata": {
        "id": "0hIY46Oxh9NE"
      }
    },
    {
      "cell_type": "code",
      "source": [
        "','.join(string_list)"
      ],
      "metadata": {
        "id": "cgGTl-LUhRjy"
      },
      "execution_count": null,
      "outputs": []
    },
    {
      "cell_type": "markdown",
      "source": [
        "### **String formating**\n",
        "\n",
        "- `f` strings: `f'sum result: {1+2}'` (Recomendado)\n",
        "- `{}` y `.format()`\n",
        "- `%` placeholders. (_old way_)"
      ],
      "metadata": {
        "id": "3Lc7IgX_SJz9"
      }
    },
    {
      "cell_type": "code",
      "source": [
        "a = 12\n",
        "print(f'El resultado es: {a}')"
      ],
      "metadata": {
        "id": "x1iQu2riS-TX"
      },
      "execution_count": null,
      "outputs": []
    },
    {
      "cell_type": "code",
      "source": [
        "'Introduce algo aquí {}'.format('hola')"
      ],
      "metadata": {
        "id": "ajgIKOGrTB97"
      },
      "execution_count": null,
      "outputs": []
    },
    {
      "cell_type": "code",
      "source": [
        "'Introduce algo aquí %s' % '!'"
      ],
      "metadata": {
        "id": "xsh1KMM2TEt6"
      },
      "execution_count": null,
      "outputs": []
    },
    {
      "cell_type": "markdown",
      "source": [
        "# **Functions**\n",
        "\n",
        "Ya hemos usado alguna en lo que llevamos de clase, `type()` es una función llamada `type` y el contenido del paréntesis son los **argumentos**.\n",
        "Esta función en concreta, como hemos visto, devuelve el tipo del argumento.\n",
        "\n",
        "\n",
        "\n",
        "Las funciones se pueden interpretar como en matemáticas:\n",
        "$$f(x) = \\mathtt{type}(x) $$\n",
        "$$ f: x \\longrightarrow y$$\n",
        "\n",
        "Donde $x$ es el argumento e $y$ el **valor devuelto** (en el caso de `type()`. $y$ es el tipo de $x$)."
      ],
      "metadata": {
        "id": "5unlKO_sXof9"
      }
    },
    {
      "cell_type": "code",
      "source": [
        "a= int(7.9898)\n",
        "a"
      ],
      "metadata": {
        "id": "kcxj-7IdYuSM"
      },
      "execution_count": null,
      "outputs": []
    },
    {
      "cell_type": "code",
      "source": [
        "str(3.141592)+ '... hasta el infinito'"
      ],
      "metadata": {
        "id": "IBhPZXjXY0b8"
      },
      "execution_count": null,
      "outputs": []
    },
    {
      "cell_type": "markdown",
      "source": [
        "## **Funciones matemáticas**\n",
        "Python tiene miles de funciones implementadas, pero no todas de ellas en Python base.\n",
        "\n",
        "Debemos usar `import` para **cargar** más funcionalidades como el módulo matemático `Math`."
      ],
      "metadata": {
        "id": "TeoySQ0_Y7v9"
      }
    },
    {
      "cell_type": "code",
      "source": [
        "import math"
      ],
      "metadata": {
        "id": "ZtwH0NozZM9E"
      },
      "execution_count": null,
      "outputs": []
    },
    {
      "cell_type": "markdown",
      "source": [
        "`math` es un módulo de la biblioteca estándar. Esto significa que está disponible dentro de la instalación de Python. Para usar todos los módulos estándar, no es necesario instalar nada más que Python.\n",
        "\n",
        "Solo necesitamos cargarlos con el comando `import` seguido del nombre del módulo.\n",
        "\n",
        "Para implementar la siguiente función:\n",
        "\n",
        "$$ f(x) = \\sqrt{x} $$\n",
        "\n",
        "Hacemos:"
      ],
      "metadata": {
        "id": "yvH7TW2FZRFs"
      }
    },
    {
      "cell_type": "code",
      "source": [
        "math.sqrt(10)"
      ],
      "metadata": {
        "id": "Icmmao6SZl4s"
      },
      "execution_count": null,
      "outputs": []
    },
    {
      "cell_type": "markdown",
      "source": [
        "Observa la notación `math.sqrt()`. Después de cargar el módulo matemático, se convierte en Objeto y podemos acceder a las funciones del objeto con el `.` notación"
      ],
      "metadata": {
        "id": "SVWVw1KAZla8"
      }
    },
    {
      "cell_type": "code",
      "source": [
        "math.e"
      ],
      "metadata": {
        "id": "rJ2zA1zCZ0ns"
      },
      "execution_count": null,
      "outputs": []
    },
    {
      "cell_type": "markdown",
      "source": [
        "## Funciones definidas por el usuario\n",
        "\n",
        "Para definir una nueva función utilizaremos `def` seguido del nombre de la función, parentésis `()` (donde entraran los argumentos si tiene) y `:`.\n",
        "\n",
        "Por ejemplo:\n"
      ],
      "metadata": {
        "id": "S8NNiRV4Z1nL"
      }
    },
    {
      "cell_type": "code",
      "source": [
        "def mi_funcion():\n",
        "    print('Función conseguida')"
      ],
      "metadata": {
        "id": "Rb3ndUCzaonD"
      },
      "execution_count": null,
      "outputs": []
    },
    {
      "cell_type": "markdown",
      "source": [
        "Ahora, cuando llamamos a nuestra función, se ejecutará la secuencia de declaraciones dentro de la función."
      ],
      "metadata": {
        "id": "fMxgx3_Jaw4s"
      }
    },
    {
      "cell_type": "code",
      "source": [
        "mi_funcion()"
      ],
      "metadata": {
        "id": "FiCsO3OybGY2"
      },
      "execution_count": null,
      "outputs": []
    },
    {
      "cell_type": "markdown",
      "source": [
        "Las funciones también pueden tomar parámetros como:\n",
        "\n",
        "$$ f(a, b) = a + b$$"
      ],
      "metadata": {
        "id": "Q5O0KNnkbJDs"
      }
    },
    {
      "cell_type": "code",
      "source": [
        "def suma(a, b):\n",
        "    resultado= a+b\n",
        "    return resultado\n",
        "\n",
        "suma(2, 3)"
      ],
      "metadata": {
        "id": "PQXosdLDbQez"
      },
      "execution_count": null,
      "outputs": []
    },
    {
      "cell_type": "code",
      "source": [
        "def cuadrado (a):\n",
        "  return a**2"
      ],
      "metadata": {
        "id": "XOxiRpKY4y9t"
      },
      "execution_count": null,
      "outputs": []
    },
    {
      "cell_type": "code",
      "source": [
        "cuadrado(2)"
      ],
      "metadata": {
        "id": "owPPDZ2z44dw"
      },
      "execution_count": null,
      "outputs": []
    },
    {
      "cell_type": "markdown",
      "source": [
        "También es posible usar otras funciones como argumentos:"
      ],
      "metadata": {
        "id": "HHPAeyZybU5L"
      }
    },
    {
      "cell_type": "code",
      "source": [
        "print(math.log(10))\n",
        "print(int(3.141592))\n",
        "print(suma(math.log(10), int(3.141592)))"
      ],
      "metadata": {
        "id": "ZIm0-tGubaps"
      },
      "execution_count": null,
      "outputs": []
    },
    {
      "cell_type": "markdown",
      "source": [
        "Las variables dentro de las funciones son **locales**. Esto significa que solo existen dentro de la función:"
      ],
      "metadata": {
        "id": "w814Obu5bf0M"
      }
    },
    {
      "cell_type": "code",
      "source": [
        "def esconde():\n",
        "    secreto = 2+5\n",
        "    return secreto"
      ],
      "metadata": {
        "id": "pgitnvmCbg8e"
      },
      "execution_count": null,
      "outputs": []
    },
    {
      "cell_type": "code",
      "source": [
        "esconde()"
      ],
      "metadata": {
        "id": "Q1ItRJlTbpyU"
      },
      "execution_count": null,
      "outputs": []
    },
    {
      "cell_type": "code",
      "source": [
        "secreto"
      ],
      "metadata": {
        "id": "YGfkJeRXbr9F"
      },
      "execution_count": null,
      "outputs": []
    },
    {
      "cell_type": "markdown",
      "source": [
        "`return` puede manejar expresiones:"
      ],
      "metadata": {
        "id": "oN2QmhQLbpjE"
      }
    },
    {
      "cell_type": "code",
      "source": [
        "def suma(a, b):\n",
        "    return a + b"
      ],
      "metadata": {
        "id": "kLO97_tebzyU"
      },
      "execution_count": null,
      "outputs": []
    },
    {
      "cell_type": "code",
      "source": [
        "res = suma(3, 7)\n",
        "res"
      ],
      "metadata": {
        "id": "rR606r7zcHG0"
      },
      "execution_count": null,
      "outputs": []
    },
    {
      "cell_type": "markdown",
      "source": [
        "Las funciones de Python también pueden devolver otras funciones:"
      ],
      "metadata": {
        "id": "EG_NMgDDcbus"
      }
    },
    {
      "cell_type": "code",
      "source": [
        "def repite(s):\n",
        "    print(s)\n",
        "    print(s)"
      ],
      "metadata": {
        "id": "QM39Md9FcgfM"
      },
      "execution_count": null,
      "outputs": []
    },
    {
      "cell_type": "code",
      "source": [
        "repite('¡Hola!')"
      ],
      "metadata": {
        "id": "d1dLpHj1ckUM"
      },
      "execution_count": null,
      "outputs": []
    },
    {
      "cell_type": "markdown",
      "source": [
        "Las funciones también pueden manejar expresiones como parámetros."
      ],
      "metadata": {
        "id": "h6Win-Hzcs_D"
      }
    },
    {
      "cell_type": "code",
      "source": [
        "repite('¡Hola!' *6)"
      ],
      "metadata": {
        "id": "uUdWuo0XcwYk"
      },
      "execution_count": null,
      "outputs": []
    },
    {
      "cell_type": "code",
      "source": [
        "def concat_repite(parte1, parte2):\n",
        "    partes = parte1 + parte2\n",
        "    return repite(partes)"
      ],
      "metadata": {
        "id": "IYF3Laapc2dt"
      },
      "execution_count": null,
      "outputs": []
    },
    {
      "cell_type": "code",
      "source": [
        "concat_repite('Buenas','tardes')"
      ],
      "metadata": {
        "id": "tTlPZS-EdCxb"
      },
      "execution_count": null,
      "outputs": []
    },
    {
      "cell_type": "markdown",
      "source": [
        "Recuerda que `partes` es una variable que solo existe cuando la función se ejecuta y después desaparece."
      ],
      "metadata": {
        "id": "benlDj4LdrBF"
      }
    },
    {
      "cell_type": "markdown",
      "source": [
        "### **Recursividad**\n",
        "\n",
        "¡La recursividad es cuando las funciones se llaman a sí mismas adentro!\n",
        "\n",
        "Por ejemplo, el factorial de un número ($n!$) es:\n",
        "\n",
        "$$n! = 1 · 2 · 3\\dots(n-2)·(n-1)·n$$\n",
        "o\n",
        "$$n! = n(n-1)(n-2)\\dots2·1$$\n",
        "Que es lo mismo que:\n",
        "$$n! = n(n-1)!$$\n",
        "\n",
        "Por ejemplo:\n",
        "\n",
        "$$5! = 5·4·3·2·1$$\n",
        "Como $4! = 4·3·2·1$:\n",
        "$$5! = 5·4!$$"
      ],
      "metadata": {
        "id": "I62J2vryd0eu"
      }
    },
    {
      "cell_type": "code",
      "source": [
        "def factorial(n):\n",
        "    if n == 0:\n",
        "        return 1\n",
        "    else:\n",
        "        return n * factorial(n - 1)"
      ],
      "metadata": {
        "id": "mfOKwVNLemJM"
      },
      "execution_count": null,
      "outputs": []
    },
    {
      "cell_type": "code",
      "source": [
        "factorial(10)"
      ],
      "metadata": {
        "id": "iSn92Bi-eq80"
      },
      "execution_count": null,
      "outputs": []
    },
    {
      "cell_type": "markdown",
      "source": [
        "Otro ejemplo:"
      ],
      "metadata": {
        "id": "dqnmxI2qesWk"
      }
    },
    {
      "cell_type": "code",
      "source": [
        "def cuenta_regresiva(n):\n",
        "    if n <= 0:\n",
        "        print('Despegue!')\n",
        "    else:\n",
        "        print(n)\n",
        "        cuenta_regresiva(n-1)"
      ],
      "metadata": {
        "id": "BKueSSTPetr0"
      },
      "execution_count": null,
      "outputs": []
    },
    {
      "cell_type": "code",
      "source": [
        "cuenta_regresiva(10)"
      ],
      "metadata": {
        "id": "C4NNZJsZe7D0"
      },
      "execution_count": null,
      "outputs": []
    },
    {
      "cell_type": "markdown",
      "source": [
        "## **Funciones lambda**"
      ],
      "metadata": {
        "id": "5NIip0__fCWM"
      }
    },
    {
      "cell_type": "markdown",
      "source": [
        "Son funciones como las que hemos visto pero sin nombre."
      ],
      "metadata": {
        "id": "2uVsIQi-fFfs"
      }
    },
    {
      "cell_type": "code",
      "source": [
        "func = lambda x: x ** 2\n",
        "func"
      ],
      "metadata": {
        "id": "nJI_9VWDfEzs"
      },
      "execution_count": null,
      "outputs": []
    },
    {
      "cell_type": "code",
      "source": [
        "func(2)"
      ],
      "metadata": {
        "id": "LV4XwQ6LfN9c"
      },
      "execution_count": null,
      "outputs": []
    },
    {
      "cell_type": "code",
      "source": [
        "def func_with_name(x):\n",
        "    return x(2)\n",
        "func_with_name"
      ],
      "metadata": {
        "id": "XsBucXf9fPZ3"
      },
      "execution_count": null,
      "outputs": []
    },
    {
      "cell_type": "code",
      "source": [
        "func_with_name(lambda x: x*2)"
      ],
      "metadata": {
        "id": "HkzQm6i0fUxD"
      },
      "execution_count": null,
      "outputs": []
    },
    {
      "cell_type": "markdown",
      "source": [
        "Las funciones Lambda serán muy útiles cuando se trabaje con tablas y mappings en pandas"
      ],
      "metadata": {
        "id": "wzfSnZo2fmyE"
      }
    },
    {
      "cell_type": "markdown",
      "source": [
        "# **Condicionales**\n",
        "\n",
        "Los condicionales se utilizan para controlar el flujo de trabajo del programa. Por ejemplo, la sentencia `if`, en pseudolenguaje se puede entender como:\n",
        "\n",
        "```\n",
        "IF condition == TRUE then DO:\n",
        "    something\n",
        "```\n",
        "## **Expresiones Booleanas**\n",
        "Una expresión booleana es una expresión que es verdadera o falsa.\n",
        "\n",
        "Los siguientes ejemplos usan el operador `==`, que compara dos operandos y produce `True` si son iguales y `False` en caso contrario:\n",
        "\n"
      ],
      "metadata": {
        "id": "EZrrajrrfpik"
      }
    },
    {
      "cell_type": "code",
      "source": [
        "2==2"
      ],
      "metadata": {
        "id": "LuoM8Ck8gKK0"
      },
      "execution_count": null,
      "outputs": []
    },
    {
      "cell_type": "code",
      "source": [
        "2==182"
      ],
      "metadata": {
        "id": "wKlLKLGjgLbs"
      },
      "execution_count": null,
      "outputs": []
    },
    {
      "cell_type": "code",
      "source": [
        "'ayuno'=='ayuno'"
      ],
      "metadata": {
        "id": "EXm91U-WgNSE"
      },
      "execution_count": null,
      "outputs": []
    },
    {
      "cell_type": "code",
      "source": [
        "'ayuno'=='abstinencia'"
      ],
      "metadata": {
        "id": "h1KzxEHxgRDU"
      },
      "execution_count": null,
      "outputs": []
    },
    {
      "cell_type": "code",
      "source": [
        "type(True)"
      ],
      "metadata": {
        "id": "ovY1i3qjgThc"
      },
      "execution_count": null,
      "outputs": []
    },
    {
      "cell_type": "markdown",
      "source": [
        "El operador `==`es uno de los operadores relacionales. También podemos encontrar:"
      ],
      "metadata": {
        "id": "B7zR0fL7gWP0"
      }
    },
    {
      "cell_type": "code",
      "source": [
        "3 != 5 #diferente a"
      ],
      "metadata": {
        "id": "dnjqxp1mgczd"
      },
      "execution_count": null,
      "outputs": []
    },
    {
      "cell_type": "code",
      "source": [
        "5 > 3 #mayor que"
      ],
      "metadata": {
        "id": "MzeWOIGGgeuM"
      },
      "execution_count": null,
      "outputs": []
    },
    {
      "cell_type": "code",
      "source": [
        "3 < 5 #menor que"
      ],
      "metadata": {
        "id": "rrpf6YVHgfqt"
      },
      "execution_count": null,
      "outputs": []
    },
    {
      "cell_type": "code",
      "source": [
        "3.2 >= 3 #mayor o igual que"
      ],
      "metadata": {
        "id": "ICFJVLWAgjm7"
      },
      "execution_count": null,
      "outputs": []
    },
    {
      "cell_type": "code",
      "source": [
        "2.8 <= 3 #menor o igual que"
      ],
      "metadata": {
        "id": "P9lLXUZQgn5U"
      },
      "execution_count": null,
      "outputs": []
    },
    {
      "cell_type": "markdown",
      "source": [
        "CUIDADO: `=` es un operador de asignación y `==` es un operador relacional."
      ],
      "metadata": {
        "id": "p_NotXwIgsKd"
      }
    },
    {
      "cell_type": "markdown",
      "source": [
        "## **Operadores lógicos**\n",
        "\n",
        "```python\n",
        "and\n",
        "or\n",
        "not\n",
        "```\n",
        "Por ejemplo:"
      ],
      "metadata": {
        "id": "Ebd0k1org4sr"
      }
    },
    {
      "cell_type": "code",
      "source": [
        "True or True"
      ],
      "metadata": {
        "id": "vuz-nVG8hCdE"
      },
      "execution_count": null,
      "outputs": []
    },
    {
      "cell_type": "code",
      "source": [
        "True and False"
      ],
      "metadata": {
        "id": "Y9R5a1ixhDlM"
      },
      "execution_count": null,
      "outputs": []
    },
    {
      "cell_type": "code",
      "source": [
        "def test_and(x):\n",
        "    '''\n",
        "    Devuelve True si x está entre 0 y 10\n",
        "    '''\n",
        "    return x >= 0 and x <= 10"
      ],
      "metadata": {
        "id": "XJdQcUx2hJrl"
      },
      "execution_count": null,
      "outputs": []
    },
    {
      "cell_type": "code",
      "source": [
        "print(test_and(5))\n",
        "print(test_and(12))"
      ],
      "metadata": {
        "id": "aU0qBrdwhL0T"
      },
      "execution_count": null,
      "outputs": []
    },
    {
      "cell_type": "code",
      "source": [
        "def test_or(x):\n",
        "    '''\n",
        "    Devuelve True si x es divisible por 2 o 3, o ambas\n",
        "    '''\n",
        "    return x%2 == 0 or x%3 == 0"
      ],
      "metadata": {
        "id": "vEdAX5i1heEU"
      },
      "execution_count": null,
      "outputs": []
    },
    {
      "cell_type": "code",
      "source": [
        "print(test_or(17))\n",
        "print(test_or(12))"
      ],
      "metadata": {
        "id": "_ZUP95DUhk5j"
      },
      "execution_count": null,
      "outputs": []
    },
    {
      "cell_type": "markdown",
      "source": [
        "### Ejercicio\n",
        "\n",
        "Implementa el operador XOR usando `and`, `not` y `or`\n",
        "\n",
        "El resultado de un XOR entre dos valores es verdadero (True) solo cuando uno de los dos valores es verdadero, pero no ambos. Si ambos valores son iguales (ambos verdaderos o ambos falsos), el resultado será falso (False).\n",
        "\n",
        "Recuerda que los operadores lógicos funcionan con tipo bool, por lo que los parámetros deben ser operaciones lógicas.\n",
        "\n",
        "### Tabla de Verdad de XOR\n",
        "\n",
        "| A     | B     | A XOR B |\n",
        "|-------|-------|---------|\n",
        "| False | False | False   |\n",
        "| False | True  | True    |\n",
        "| True  | False | True    |\n",
        "| True  | True  | False   |\n"
      ],
      "metadata": {
        "id": "nL60JMjWirl0"
      }
    },
    {
      "cell_type": "code",
      "source": [],
      "metadata": {
        "id": "Llfa57eAi43s"
      },
      "execution_count": null,
      "outputs": []
    },
    {
      "cell_type": "code",
      "source": [
        "xor(2>1, 1>2)"
      ],
      "metadata": {
        "id": "gLI41L9Bi8g0"
      },
      "execution_count": null,
      "outputs": []
    },
    {
      "cell_type": "markdown",
      "source": [
        "### Pero, ¿qué es bool?\n",
        "\n",
        "En python, el tipo `bool` es una subclase de `int` que solo contiene 0 y 1. `False` se evalúa como 0 y `True` se evalúa como 1."
      ],
      "metadata": {
        "id": "ojN3laovjeFE"
      }
    },
    {
      "cell_type": "code",
      "source": [
        "False==0"
      ],
      "metadata": {
        "id": "1F2L276IjqaU"
      },
      "execution_count": null,
      "outputs": []
    },
    {
      "cell_type": "code",
      "source": [
        "True==1"
      ],
      "metadata": {
        "id": "qWPIMeEfjr60"
      },
      "execution_count": null,
      "outputs": []
    },
    {
      "cell_type": "code",
      "source": [
        "True+True+True"
      ],
      "metadata": {
        "id": "FQhcLko2jtP0"
      },
      "execution_count": null,
      "outputs": []
    },
    {
      "cell_type": "code",
      "source": [
        "True/ False"
      ],
      "metadata": {
        "id": "R-7aWWmaju80"
      },
      "execution_count": null,
      "outputs": []
    },
    {
      "cell_type": "code",
      "source": [
        "False/ True"
      ],
      "metadata": {
        "id": "bnw2jvTajwuc"
      },
      "execution_count": null,
      "outputs": []
    },
    {
      "cell_type": "markdown",
      "source": [
        "Pero Python no es muy estricto y cada número distinto de cero se interpreta como verdadero."
      ],
      "metadata": {
        "id": "UY9uq04hj450"
      }
    },
    {
      "cell_type": "code",
      "source": [
        "123 and True"
      ],
      "metadata": {
        "id": "zmWZby-Vj688"
      },
      "execution_count": null,
      "outputs": []
    },
    {
      "cell_type": "markdown",
      "source": [
        "## **Condicional**\n",
        "Para escribir programas útiles, casi siempre necesitamos la capacidad de verificar ciertas condiciones y cambiar el programa en consecuencia.\n",
        "Los condicionales nos otorgan esta habilidad.\n",
        "\n",
        "Si la condición seguida por `if` se cumple, se ejecuta el bloque que contiene.\n",
        "\n",
        "``` python\n",
        "if x < 0:  # <- condicion\n",
        "    # Cuerpo. Si la condición es True, corre\n",
        "    # Haz algo con x\n",
        "```"
      ],
      "metadata": {
        "id": "SyxjidubkStk"
      }
    },
    {
      "cell_type": "code",
      "source": [
        "def check_positivo(x):\n",
        "    if x > 0:\n",
        "        print('{n1} es positivo'.format(n1=x))"
      ],
      "metadata": {
        "id": "cU_pjnn1lRY0"
      },
      "execution_count": null,
      "outputs": []
    },
    {
      "cell_type": "code",
      "source": [
        "check_positivo(3)"
      ],
      "metadata": {
        "id": "b8UKmGfylVIM"
      },
      "execution_count": null,
      "outputs": []
    },
    {
      "cell_type": "code",
      "source": [
        "check_positivo(-1)"
      ],
      "metadata": {
        "id": "Pnp9sMKFlX1k"
      },
      "execution_count": null,
      "outputs": []
    },
    {
      "cell_type": "markdown",
      "source": [
        "Para este último caso, existe la posibilidad de añadir una ejecución alternativa en caso de que no se cumpla la primera."
      ],
      "metadata": {
        "id": "p1fzEcitldAM"
      }
    },
    {
      "cell_type": "code",
      "source": [
        "def check_positivo(x):\n",
        "    if x > 0:\n",
        "        print('{n1} es positivo'.format(n1=x))\n",
        "    else:\n",
        "        print('{n1} no es positivo'.format(n1=x))"
      ],
      "metadata": {
        "id": "rP3ShG-ol1u8"
      },
      "execution_count": null,
      "outputs": []
    },
    {
      "cell_type": "code",
      "source": [
        "check_positivo(-1)"
      ],
      "metadata": {
        "id": "tyDfstCmmE7c"
      },
      "execution_count": null,
      "outputs": []
    },
    {
      "cell_type": "code",
      "source": [
        "def es_par(x):\n",
        "    '''\n",
        "    Comprueba si un número es par o impar  (conviene hacer una pequeña descripción de lo que hace nuestra función)\n",
        "    '''\n",
        "    if x % 2 == 0:\n",
        "        print('x is par')\n",
        "    else:\n",
        "        print('x is impar')"
      ],
      "metadata": {
        "id": "ug_3HZiLlzJ8"
      },
      "execution_count": null,
      "outputs": []
    },
    {
      "cell_type": "code",
      "source": [
        "es_par(4)"
      ],
      "metadata": {
        "id": "R57vmlQCmayE"
      },
      "execution_count": null,
      "outputs": []
    },
    {
      "cell_type": "markdown",
      "source": [
        "A veces hay más de dos posibilidades y necesitamos más de dos ramas. Una forma de expresar un cálculo como ese es un **condicional encadenado**:"
      ],
      "metadata": {
        "id": "qBZgVkLsmdoz"
      }
    },
    {
      "cell_type": "code",
      "source": [
        "def entre_0_10(x):\n",
        "    if x < 0:\n",
        "        print('x es menor que 0!')\n",
        "    elif x > 10:\n",
        "        print('x es mayor que 10!')\n",
        "    else:\n",
        "        print('x está entre 0 y 10')"
      ],
      "metadata": {
        "id": "QEpmDW53nLQM"
      },
      "execution_count": null,
      "outputs": []
    },
    {
      "cell_type": "code",
      "source": [
        "entre_0_10(2)"
      ],
      "metadata": {
        "id": "A4ugUvGunWh7"
      },
      "execution_count": null,
      "outputs": []
    },
    {
      "cell_type": "code",
      "source": [
        "entre_0_10(15)"
      ],
      "metadata": {
        "id": "Zvkd6s9gnXQD"
      },
      "execution_count": null,
      "outputs": []
    },
    {
      "cell_type": "markdown",
      "source": [
        "Solo se ejecuta la primera condición `True`, es decir, que se cumple.\n",
        "\n",
        "Los condicionales también se pueden anidar dentro de otro:\n",
        "\n",
        "```python\n",
        "if x == y:\n",
        "    print('x and y son iguales')\n",
        "else:\n",
        "    if x < y:\n",
        "        print('x es menor que y')\n",
        "    else:\n",
        "        print('x es mayor que y')\n",
        "```"
      ],
      "metadata": {
        "id": "OBMDyXX1nay7"
      }
    },
    {
      "cell_type": "markdown",
      "source": [
        "A tener en cuenta:\n",
        "\n",
        "* Se utiliza dos puntos (':') al final de las líneas con if, else o elif.\n",
        "* No se requieren paréntesis para encerrar la condición booleana (se presume que incluye todo entre if o elif y los dos puntos).\n",
        "* Las declaraciones debajo de cada línea if, elif y else están todas indentadas."
      ],
      "metadata": {
        "id": "K-vOpoc8l808"
      }
    },
    {
      "cell_type": "markdown",
      "source": [
        "## *Ejercicios*\n",
        "\n",
        "+ Escribe una función que verifique si un número está entre 1-4 o 10-15\n"
      ],
      "metadata": {
        "id": "iGF2ZWCNn04j"
      }
    },
    {
      "cell_type": "markdown",
      "source": [
        "+   El último teorema de Fermat dice que no existen números enteros positivos $a$, $b$ y $c$ tales que:\n",
        "\n",
        "$$ a^n + b^n = c^n$$\n",
        "\n",
        "para cualquier valor de $n$ mayor de 2\n",
        "\n",
        "\n",
        "Escribe una función llamada `check_fermat` que tome cuatro parámetros `a, b, c y n` y verifique si se cumple el teorema de Fermat.\n",
        "\n",
        "Si n es mayor que 2 y\n",
        "\n",
        "$$a^n + b^n = c^n$$\n",
        "\n",
        "el programa debería devolver, \"¡Fermat estaba equivocado!\" De lo contrario, el programa debería imprimir \"No, eso no funciona\"."
      ],
      "metadata": {
        "id": "z-ajHvCnoVwM"
      }
    },
    {
      "cell_type": "code",
      "source": [
        "#Primer ejercicio\n",
        "\n",
        "def verificar_numero(n):\n",
        "  # Termina la función"
      ],
      "metadata": {
        "id": "Kp9wLirp7P7W"
      },
      "execution_count": null,
      "outputs": []
    },
    {
      "cell_type": "code",
      "source": [
        "#Segundo ejercicio\n",
        "def check_fermat(a,b,c,n):\n",
        "  # Termina"
      ],
      "metadata": {
        "id": "r9_wrjzanqz7"
      },
      "execution_count": null,
      "outputs": []
    },
    {
      "cell_type": "code",
      "source": [
        "check_fermat(4,2,3,3)"
      ],
      "metadata": {
        "id": "_iCQ93ILoUi0"
      },
      "execution_count": null,
      "outputs": []
    },
    {
      "cell_type": "markdown",
      "source": [
        "\n",
        "\n",
        "---\n",
        "\n"
      ],
      "metadata": {
        "id": "tPy4DEixqZqj"
      }
    },
    {
      "cell_type": "markdown",
      "source": [
        "\n",
        "# **Colecciones y secuencias**\n",
        "\n",
        "Las colecciones son contenedores con objetos en su interior. Esos contenedores pueden ser ordenados o desordenados.\n",
        "\n",
        "Ordenados:\n",
        "+ Lists, `[...]`\n",
        "+ Tuples, `(...)`\n",
        "+ strings, `'...'`\n",
        "\n",
        "Desordenados:\n",
        "+ Sets, `{...}`\n",
        "+ Dictionaries, como `set` pero con relaciones clave-valor, `{key: value, ...}`\n",
        "\n",
        "Podemos encontrar [otros](https://docs.python.org/2/library/collections.html).\n"
      ],
      "metadata": {
        "id": "MQehPmcsqZAs"
      }
    },
    {
      "cell_type": "markdown",
      "source": [
        "## **Listas**\n",
        "\n",
        "Las listas son uno de los tipos integrados más útiles de Python.\n",
        "\n",
        "Al igual que una cadena, una lista es una secuencia de valores. En una cadena, los valores son caracteres; en una lista, pueden ser de cualquier tipo. Los valores de una lista se denominan elementos o, a veces, \"items\".\n"
      ],
      "metadata": {
        "id": "qjtElqRVq_2r"
      }
    },
    {
      "cell_type": "code",
      "source": [
        "animales= ['perro','gato','loro','leon']"
      ],
      "metadata": {
        "id": "DeRC_LtjrO-8"
      },
      "execution_count": null,
      "outputs": []
    },
    {
      "cell_type": "code",
      "source": [
        "print('Es una {}, con {} elementos'.format(type(animales), len(animales)))"
      ],
      "metadata": {
        "id": "wyeVeKQZrZ6c"
      },
      "execution_count": null,
      "outputs": []
    },
    {
      "cell_type": "markdown",
      "source": [
        "Los elementos de una lista no tienen que ser del mismo tipo.\n",
        "\n",
        "¡Las listas también pueden tener listas anidadas!"
      ],
      "metadata": {
        "id": "G_rx_FOGrlvL"
      }
    },
    {
      "cell_type": "code",
      "source": [
        "['pato', 2.48, 4, [10, 20]]"
      ],
      "metadata": {
        "id": "B68LzG58rqVT"
      },
      "execution_count": null,
      "outputs": []
    },
    {
      "cell_type": "markdown",
      "source": [
        "También pueden estar vacías."
      ],
      "metadata": {
        "id": "bscyXKz1rsir"
      }
    },
    {
      "cell_type": "code",
      "source": [
        "empty_list = []\n",
        "print(empty_list, len(empty_list))"
      ],
      "metadata": {
        "id": "tvpma6xCrw9j"
      },
      "execution_count": null,
      "outputs": []
    },
    {
      "cell_type": "markdown",
      "source": [
        "### Las listas son mutables"
      ],
      "metadata": {
        "id": "tsr2CzfArywM"
      }
    },
    {
      "cell_type": "markdown",
      "source": [
        "La sintaxis para acceder a los elementos de una lista es la misma que para acceder a los caracteres de una cadena (el operador `[ ]`). La expresión entre corchetes especifica el índice. Importante recordar que el índice **comienza en 0**."
      ],
      "metadata": {
        "id": "fokuFQ-vr5gO"
      }
    },
    {
      "cell_type": "code",
      "source": [
        "animales[2]"
      ],
      "metadata": {
        "id": "VUllNSeGsJRN"
      },
      "execution_count": null,
      "outputs": []
    },
    {
      "cell_type": "markdown",
      "source": [
        "A diferencia de las cadenas, las listas son mutables. Cuando el operador `[ ]` aparece en el lado izquierdo de una asignación, identifica el elemento de la lista que se asignará."
      ],
      "metadata": {
        "id": "_O6cYWeAsf_E"
      }
    },
    {
      "cell_type": "code",
      "source": [
        "numbers = [23, 54, 123]\n",
        "numbers\n"
      ],
      "metadata": {
        "id": "QaBE8mZ3soKt"
      },
      "execution_count": null,
      "outputs": []
    },
    {
      "cell_type": "code",
      "source": [
        "numbers[1] = 0\n",
        "numbers"
      ],
      "metadata": {
        "id": "TR5rkhoW798s"
      },
      "execution_count": null,
      "outputs": []
    },
    {
      "cell_type": "markdown",
      "source": [
        "El índice de lista funciona así:\n",
        "\n",
        "+ Cualquier expresión entera se puede utilizar como índice.\n",
        "+ Si intentas leer o escribir un elemento que no existe, obtienes un `IndexError`.\n",
        "+ Si un índice tiene un **número entero negativo**, cuenta hacia atrás desde el final de la lista."
      ],
      "metadata": {
        "id": "pCjrN4m4ss_U"
      }
    },
    {
      "cell_type": "code",
      "source": [
        "numbers[5]"
      ],
      "metadata": {
        "id": "VQGzY1R5s8c8"
      },
      "execution_count": null,
      "outputs": []
    },
    {
      "cell_type": "code",
      "source": [
        "numbers[-1]  # coge el ultimo elemento"
      ],
      "metadata": {
        "id": "qutfEN9os8-s"
      },
      "execution_count": null,
      "outputs": []
    },
    {
      "cell_type": "markdown",
      "source": [
        "Las listas también admiten el operador `in`. Éste comprueba la pertenencia del elemento a la izquierda a la secuencia de la derecha."
      ],
      "metadata": {
        "id": "QCzaO4cHtDTH"
      }
    },
    {
      "cell_type": "code",
      "source": [
        "'perro' in animales"
      ],
      "metadata": {
        "id": "IqQKUSuks9zc"
      },
      "execution_count": null,
      "outputs": []
    },
    {
      "cell_type": "code",
      "source": [
        "'caballo' in animales"
      ],
      "metadata": {
        "id": "GiuTj-p2tSET"
      },
      "execution_count": null,
      "outputs": []
    },
    {
      "cell_type": "markdown",
      "source": [
        "### **Iteraciones: for y range**"
      ],
      "metadata": {
        "id": "s6cvs8a8tUZz"
      }
    },
    {
      "cell_type": "code",
      "source": [
        "# iterar sobre los elementos\n",
        "for animal in animales:\n",
        "    print(animal)"
      ],
      "metadata": {
        "id": "BPVFZhTRtZQb"
      },
      "execution_count": null,
      "outputs": []
    },
    {
      "cell_type": "code",
      "source": [
        "list(range(len(numbers)))"
      ],
      "metadata": {
        "id": "JO8YcIZ4tgrb"
      },
      "execution_count": null,
      "outputs": []
    },
    {
      "cell_type": "code",
      "source": [
        "# iterar sobre los indices\n",
        "for i in range(len(numbers)):\n",
        "    numbers[i]*= 2 # numbers[i]=numbers[i]*2\n",
        "numbers"
      ],
      "metadata": {
        "id": "u6mwvCmOti39"
      },
      "execution_count": null,
      "outputs": []
    },
    {
      "cell_type": "markdown",
      "source": [
        "¿Qué hace `range(len([...]))` ?\n",
        "\n",
        "`len()` devuelve el numero de elementos de la lista y `range()` crea un rango que va de 0 a n-1.\n",
        "\n",
        "De esta manera tenemos una manera de acceder a la lista por sus **indices**."
      ],
      "metadata": {
        "id": "lDxQpl7lvMVT"
      }
    },
    {
      "cell_type": "code",
      "source": [
        "for i in range(23):\n",
        "    numbers[i] = numbers[i] * 2"
      ],
      "metadata": {
        "id": "DcBI1_W9vhTz"
      },
      "execution_count": null,
      "outputs": []
    },
    {
      "cell_type": "markdown",
      "source": [
        "La forma más general de la función  [**`range(start, stop[, step])`**](https://docs.python.org/3/library/functions.html#func-range) devuelve una secuencia de números que empieza desde start hasta stop - 1 (exclusivo), y se incrementa o decrementa de acuerdo con el valor de step (por defecto es 1). Si step es negativo, la secuencia decrece."
      ],
      "metadata": {
        "id": "P3pR3q5-njkt"
      }
    },
    {
      "cell_type": "markdown",
      "source": [
        "`range(start, stop[, step])`\n",
        "\n",
        "\n",
        "\n",
        "*   **start**: El valor inicial de la secuencia (incluido).\n",
        "*   **stop**: El valor final de la secuencia (no incluido).\n",
        "*   **step**: El incremento o decremento entre valores (por defecto es 1).\n",
        "\n",
        "\n",
        "\n",
        "\n",
        "\n"
      ],
      "metadata": {
        "id": "8QBNNUvC8tVY"
      }
    },
    {
      "cell_type": "markdown",
      "source": [
        "Rango con incremento positivo (step = 1 por defecto):\n"
      ],
      "metadata": {
        "id": "sSwp9aOu9A7g"
      }
    },
    {
      "cell_type": "code",
      "source": [
        "# range(1, 5) genera [1, 2, 3, 4]\n",
        "for i in range(1, 5):\n",
        "    print(i)\n"
      ],
      "metadata": {
        "id": "2yBHW296885H"
      },
      "execution_count": null,
      "outputs": []
    },
    {
      "cell_type": "markdown",
      "source": [
        "Rango con decremento (step < 0):"
      ],
      "metadata": {
        "id": "3rkelpNT9SAL"
      }
    },
    {
      "cell_type": "code",
      "source": [
        "# range(10, 0, -2) genera [10, 8, 6, 4, 2]\n",
        "for i in range(10, 0, -2):\n",
        "    print(i)"
      ],
      "metadata": {
        "id": "jZRiTLAy9RKX"
      },
      "execution_count": null,
      "outputs": []
    },
    {
      "cell_type": "markdown",
      "source": [
        "### **Operaciones**"
      ],
      "metadata": {
        "id": "kTxbVmKavjSs"
      }
    },
    {
      "cell_type": "markdown",
      "source": [
        "El operador `+` concatena listas y `*` repite una lista dado un número de veces."
      ],
      "metadata": {
        "id": "WdSt-ro4vnYj"
      }
    },
    {
      "cell_type": "code",
      "source": [
        "a = [1,2,3]\n",
        "b = [10,20,30]\n",
        "c = a + b\n",
        "c"
      ],
      "metadata": {
        "id": "YbaJT_cZvxgz"
      },
      "execution_count": null,
      "outputs": []
    },
    {
      "cell_type": "code",
      "source": [
        "[1, 2, 3] * 3"
      ],
      "metadata": {
        "id": "KMkgoGA8vygk"
      },
      "execution_count": null,
      "outputs": []
    },
    {
      "cell_type": "markdown",
      "source": [
        "### **Slicing**\n",
        "\n",
        "El \"slicing\" es algo que se debe dominar, ya que permite acceder a los elementos y subconjuntos de la lista a través del operador `[ ]`.\n",
        "\n",
        "```\n",
        "list[start:end]\n",
        "```"
      ],
      "metadata": {
        "id": "ENNFk6dkv1Hu"
      }
    },
    {
      "cell_type": "code",
      "source": [
        "l = ['a', 'b', 'c', 'd', 'e', 'f', 'g', 'h', 'i']\n",
        "l"
      ],
      "metadata": {
        "id": "Q1Qwh_K5wISs"
      },
      "execution_count": null,
      "outputs": []
    },
    {
      "cell_type": "code",
      "source": [
        "l[2]"
      ],
      "metadata": {
        "id": "Kv46cmZ2wJQM"
      },
      "execution_count": null,
      "outputs": []
    },
    {
      "cell_type": "code",
      "source": [
        "l[0:2]"
      ],
      "metadata": {
        "id": "NLa-QjYhwJrb"
      },
      "execution_count": null,
      "outputs": []
    },
    {
      "cell_type": "code",
      "source": [
        "l[:2]"
      ],
      "metadata": {
        "id": "I2yrPkS6wKnU"
      },
      "execution_count": null,
      "outputs": []
    },
    {
      "cell_type": "code",
      "source": [
        "l[2:]"
      ],
      "metadata": {
        "id": "TKq6D_lpwLYT"
      },
      "execution_count": null,
      "outputs": []
    },
    {
      "cell_type": "code",
      "source": [
        "l[1:4]"
      ],
      "metadata": {
        "id": "FTZQJjorwM5b"
      },
      "execution_count": null,
      "outputs": []
    },
    {
      "cell_type": "code",
      "source": [
        "l[3:]"
      ],
      "metadata": {
        "id": "yzqi2d9wwOb7"
      },
      "execution_count": null,
      "outputs": []
    },
    {
      "cell_type": "code",
      "source": [
        "l[-1]"
      ],
      "metadata": {
        "id": "LTXZxbiBwPR3"
      },
      "execution_count": null,
      "outputs": []
    },
    {
      "cell_type": "code",
      "source": [
        "l[2:-2]"
      ],
      "metadata": {
        "id": "NFECycxwwQw8"
      },
      "execution_count": null,
      "outputs": []
    },
    {
      "cell_type": "markdown",
      "source": [
        "Las listas también soportan un \"slicing\" más complejo añadiendo una zancada (stride):\n",
        "\n",
        "```\n",
        "list[start:stop:stride]\n",
        "```"
      ],
      "metadata": {
        "id": "FCJK-M_LwVZM"
      }
    },
    {
      "cell_type": "code",
      "source": [
        "l[::2] #elementos en posiciones pares"
      ],
      "metadata": {
        "id": "JE3Wai0rwVJ8"
      },
      "execution_count": null,
      "outputs": []
    },
    {
      "cell_type": "code",
      "source": [
        "l[1::2] #elementos en posiciones impares"
      ],
      "metadata": {
        "id": "63zVGiEFwkP7"
      },
      "execution_count": null,
      "outputs": []
    },
    {
      "cell_type": "code",
      "source": [
        "l[::-1] #elementos en orden inverso"
      ],
      "metadata": {
        "id": "mxra4uD3wlIr"
      },
      "execution_count": null,
      "outputs": []
    },
    {
      "cell_type": "code",
      "source": [
        "l[::-2]"
      ],
      "metadata": {
        "id": "ix9DR0Hgwqb7"
      },
      "execution_count": null,
      "outputs": []
    },
    {
      "cell_type": "markdown",
      "source": [
        "### **Métodos**\n",
        "\n",
        "La clase `list` también tiene sus propios métodos.\n",
        "\n",
        "\n",
        "| **List method** | **Description**   |\n",
        "|------|------|\n",
        "|   *list*.append(*x*)  | Adds item x to the end of the list |\n",
        "|   *list*.extend(*L*)  | Adds all items in list *L* to the end of the list |\n",
        "|   *list*.insert(*i,x*)  | Inserts item *x* in position *i* |\n",
        "|   *list*.remove(*x*)  | Removes first item *x* from the list |\n",
        "|   *list*.pop(*i*)  | Removes item at index position *i* and returns it |\n",
        "|   *list*.index(*x*)  | Returns the index position in the list of first item *x* |\n",
        "|   *list*.count(*x*)  | Returns the number of times *x* appears in the list |\n",
        "|   *list*.sort()  | Sort all list items, in place |\n",
        "|   *list*.reverse()  | Reverse all list items, in place |\n",
        "\n"
      ],
      "metadata": {
        "id": "388HM4Elwr_7"
      }
    },
    {
      "cell_type": "markdown",
      "source": [
        "Por ejemplo, con `.append` añadimos un objeto en el argumento al final de la lista"
      ],
      "metadata": {
        "id": "jjnGh2MJw5wD"
      }
    },
    {
      "cell_type": "code",
      "source": [
        "l.append('j')\n",
        "l"
      ],
      "metadata": {
        "id": "c2B6fKyMxA80"
      },
      "execution_count": null,
      "outputs": []
    },
    {
      "cell_type": "markdown",
      "source": [
        "Con `pop` sacamos el un objeto de la lista (dado el índice). Por defecto es el último."
      ],
      "metadata": {
        "id": "FC2WX98xxE9c"
      }
    },
    {
      "cell_type": "code",
      "source": [
        "l.pop()"
      ],
      "metadata": {
        "id": "8y4kCSdTxCwE"
      },
      "execution_count": null,
      "outputs": []
    },
    {
      "cell_type": "code",
      "source": [
        "l"
      ],
      "metadata": {
        "id": "xDESQ6f-xEZj"
      },
      "execution_count": null,
      "outputs": []
    },
    {
      "cell_type": "markdown",
      "source": [
        "Si queremos añadir elementos:"
      ],
      "metadata": {
        "id": "w4vg-gDwxl0T"
      }
    },
    {
      "cell_type": "code",
      "source": [
        "l.append([1,2,3])\n",
        "l"
      ],
      "metadata": {
        "id": "W9EzNpmZxkno"
      },
      "execution_count": null,
      "outputs": []
    },
    {
      "cell_type": "code",
      "source": [
        "l.pop()"
      ],
      "metadata": {
        "id": "TlQgwNsZxlcj"
      },
      "execution_count": null,
      "outputs": []
    },
    {
      "cell_type": "code",
      "source": [
        "l.append(['a', 'b', 'c'])\n",
        "l"
      ],
      "metadata": {
        "id": "ifRdsnrLxgc0"
      },
      "execution_count": null,
      "outputs": []
    },
    {
      "cell_type": "code",
      "source": [
        "l = 'a b c d e f g h i'.split(' ')\n",
        "l.extend('ABCDEF')\n",
        "l"
      ],
      "metadata": {
        "id": "xPhqt2tfxU4r"
      },
      "execution_count": null,
      "outputs": []
    },
    {
      "cell_type": "markdown",
      "source": [
        "`append` es muy útil para crear nuevas listas a partir de un iterador:"
      ],
      "metadata": {
        "id": "DjSghUxzx4uz"
      }
    },
    {
      "cell_type": "code",
      "source": [
        "animales= ['perro','gato','loro','leon','ornitorrinco','muerciélago']\n",
        "new_list = []  # creamos una lista vacía\n",
        "\n",
        "for animal in animales:\n",
        "    if len(animal) > 6:\n",
        "        new_list.append(animal)"
      ],
      "metadata": {
        "id": "NE0-0Ta1x8Lj"
      },
      "execution_count": null,
      "outputs": []
    },
    {
      "cell_type": "code",
      "source": [
        "new_list"
      ],
      "metadata": {
        "id": "3fP3qgosyOT7"
      },
      "execution_count": null,
      "outputs": []
    },
    {
      "cell_type": "markdown",
      "source": [
        "### **Mutabilidad**\n",
        "\n",
        "Profundicemos en la mutabilidad de las listas, que significa que pueden ser modificadas.\n",
        "\n",
        "Veamos el siguiente ejemplo:\n"
      ],
      "metadata": {
        "id": "bMaMuzKfju4F"
      }
    },
    {
      "cell_type": "code",
      "source": [
        "list_1 = [1, 2, 3, 5, 1]\n",
        "list_2 = list_1  # list_2 ahora referencia al mismo objeto que list_1\n",
        "\n",
        "print('list_1:             ', list_1)\n",
        "print('list_2:             ', list_2)\n",
        "print()\n",
        "\n",
        "list_1.remove(1)  # elimina la primera ocurrencia de 1 en list_1\n",
        "print('list_1.remove(1):   ', list_1)\n",
        "print()\n",
        "\n",
        "list_1.pop(2)  # elimina el elemento en la posición 2\n",
        "print('list_1.pop(2):      ', list_1)\n",
        "print()\n",
        "\n",
        "list_1.append(6)  # añade 6 al final de list_1\n",
        "print('list_1.append(6):   ', list_1)\n",
        "print()\n",
        "\n",
        "list_1.insert(0, 7)  # añade 7 al principio de list_1 (antes del elemento en la posición 0)\n",
        "print('list_1.insert(0, 7):', list_1)\n",
        "print()\n",
        "\n",
        "list_1.sort()  # ordena los elementos de list_1\n",
        "print('list_1.sort():      ', list_1)\n",
        "print()\n",
        "\n",
        "list_1.reverse()  # invierte el orden de los elementos en list_1\n",
        "print('list_1.reverse():   ', list_1)\n"
      ],
      "metadata": {
        "id": "amaNpEr4kBXv"
      },
      "execution_count": null,
      "outputs": []
    },
    {
      "cell_type": "markdown",
      "source": [
        "\n",
        "Cuando tienes más de un nombre (por ejemplo, una variable) asociado al mismo objeto mutable en Python, cualquier modificación realizada en ese objeto se reflejará en todos los nombres que están vinculados a él. Esto sucede porque todos esos nombres apuntan a la misma ubicación de memoria donde reside el objeto mutable."
      ],
      "metadata": {
        "id": "V8tcze5YkZ2_"
      }
    },
    {
      "cell_type": "code",
      "source": [
        "print('list_1:          ', list_1)\n",
        "print('list_2:          ', list_2)"
      ],
      "metadata": {
        "id": "WqcBjFgKkal8"
      },
      "execution_count": null,
      "outputs": []
    },
    {
      "cell_type": "markdown",
      "source": [
        "Si queremos que los cambios en una lista no afecten a la otra, podemos crear una de ellas como una copia.\n",
        "\n",
        "Por ejemplo:\n"
      ],
      "metadata": {
        "id": "6L2TQyvCkc7M"
      }
    },
    {
      "cell_type": "code",
      "source": [
        "list_1 = [1, 2, 3, 5, 1]\n",
        "list_2 = list_1[:]  # list_1[:] devuelve una copia de todo el contenido de list_1\n",
        "\n",
        "print('list_1:             ', list_1)\n",
        "print('list_2:             ', list_2)\n",
        "print()\n",
        "\n",
        "list_1.remove(1)  # elimina solo la primera ocurrencia de 1 en list_1\n",
        "print('list_1.remove(1):   ', list_1)\n",
        "print()\n",
        "\n",
        "print('list_1:          ', list_1)\n",
        "print('list_2:          ', list_2)\n"
      ],
      "metadata": {
        "id": "pgIzdk_hkmgj"
      },
      "execution_count": null,
      "outputs": []
    },
    {
      "cell_type": "markdown",
      "source": [
        "## **Tuplas**\n",
        "\n",
        "Las tuplas son secuencias inmutables. Se designan con `( )`.\n",
        "+ **Secuencias:** Las tuplas son estructuras de datos que almacenan una colección ordenada de elementos. Como son secuencias, puedes acceder a sus elementos mediante un índice (como en las listas).\n",
        "+ **Inmutables:** Una de las características principales de las tuplas es que no se pueden modificar después de su creación. Esto significa que una vez que creas una tupla, no puedes agregar, quitar o cambiar sus elementos. Si intentas hacerlo, obtendrás un error."
      ],
      "metadata": {
        "id": "UudBzzCTyQH7"
      }
    },
    {
      "cell_type": "code",
      "source": [
        "t = (1, 23, 3, 1)\n",
        "t"
      ],
      "metadata": {
        "id": "r3zS-uudyajj"
      },
      "execution_count": null,
      "outputs": []
    },
    {
      "cell_type": "code",
      "source": [
        "t[0]=2"
      ],
      "metadata": {
        "id": "tmTYtxKpygbL"
      },
      "execution_count": null,
      "outputs": []
    },
    {
      "cell_type": "markdown",
      "source": [
        "### **Métodos**\n",
        "\n",
        "| **Tuple method** | **Description**   |\n",
        "|------|------|\n",
        "|   *tuple*.count(value)  | return number of occurrences of value |\n",
        "|   *tuple*.index(value, start, stop)  | return first index of value |\n",
        "\n",
        "\n",
        " La función `tuple.index(value, start, stop)` en Python se utiliza para encontrar la primera posición de un elemento (valor) dentro de una tupla, dentro de un rango opcional especificado por los parámetros start y stop."
      ],
      "metadata": {
        "id": "By5PZ6Ecyigc"
      }
    },
    {
      "cell_type": "code",
      "source": [
        "t"
      ],
      "metadata": {
        "id": "ly4F0gHLyuG7"
      },
      "execution_count": null,
      "outputs": []
    },
    {
      "cell_type": "code",
      "source": [
        "t.count(1)"
      ],
      "metadata": {
        "id": "svtKSVY1yulr"
      },
      "execution_count": null,
      "outputs": []
    },
    {
      "cell_type": "code",
      "source": [
        "t.index(1,1,4)"
      ],
      "metadata": {
        "id": "RLNMKFtUyzBL"
      },
      "execution_count": null,
      "outputs": []
    },
    {
      "cell_type": "markdown",
      "source": [
        "Es importante tener en cuenta que los métodos que modifican listas (por ejemplo, append(), remove()) no están definidos para secuencias inmutables como las tuplas o las cadenas de texto. Intentar usar uno de estos métodos de modificación en una secuencia inmutable resultará en una excepción AttributeError.\n",
        "\n",
        "Esto se debe a que, como comentábamos, las secuencias inmutables como las tuplas y las cadenas de texto en Python no permiten cambios directos en sus elementos una vez que han sido creados."
      ],
      "metadata": {
        "id": "mKeYOElrlFyF"
      }
    },
    {
      "cell_type": "markdown",
      "source": [
        "## **Listas vs tuplas**\n",
        "\n",
        "#### Comparación de ventajas y desventajas:\n",
        "\n",
        "| Característica            | **Lista**                            | **Tupla**                             |\n",
        "|---------------------------|--------------------------------------|---------------------------------------|\n",
        "| **Mutabilidad**            | Mutable (puedes modificarla)        | Inmutable (no puedes modificarla)    |\n",
        "| **Métodos disponibles**    | Muchos métodos (append, pop, etc.)  | Pocos métodos (solo acceso y desempaquetado) |\n",
        "| **Rendimiento**            | Más lenta (debido a la mutabilidad) | Más rápida (por ser inmutable)       |\n",
        "| **Uso de memoria**         | Más memoria (requiere más espacio)  | Menos memoria (más eficiente)        |\n",
        "| **Uso como clave en diccionarios** | No se puede usar como clave     | Sí se puede usar como clave (porque es inmutable) |\n",
        "| **Flexibilidad**           | Alta (puedes modificar, agregar y eliminar elementos) | Baja (no puedes modificar los elementos) |\n",
        "| **Acceso a elementos**     | Más flexible, pero más costoso en términos de rendimiento | Acceso más rápido y eficiente, pero sin modificaciones posibles |\n",
        "| **Casos de uso comunes**   | Cuando los datos cambian con frecuencia (listas de tareas, inventarios) | Cuando los datos son constantes (coordenadas, días de la semana, constantes matemáticas) |\n",
        "\n",
        "#### ¿Cuándo usar cada uno?\n",
        "\n",
        "**Usa listas cuando:**\n",
        "- Necesitas modificar el contenido durante la ejecución del programa (agregar, eliminar, cambiar elementos).\n",
        "- Estás trabajando con datos que pueden cambiar dinámicamente.\n",
        "- Requieres de los muchos métodos que ofrece la lista para manipular datos.\n",
        "\n",
        "**Usa tuplas cuando:**\n",
        "- Los datos no deben cambiar después de ser definidos (como coordenadas geográficas, configuraciones de constantes, etc.).\n",
        "- Necesitas mayor rendimiento y menor consumo de memoria.\n",
        "- Quieres usar la tupla como clave en un diccionario (porque las tuplas son hashables y las listas no).\n",
        "- El orden y la seguridad de los datos son importantes, y no deseas que se modifiquen accidentalmente.\n",
        "\n",
        "#### Resumen:\n",
        "- **Listas**: Utiliza cuando necesites una estructura de datos mutable y flexible.\n",
        "- **Tuplas**: Utiliza cuando necesites una estructura de datos inmutable, más rápida y eficiente en términos de memoria, y que no deba cambiar durante la ejecución del programa.\n"
      ],
      "metadata": {
        "id": "hjLO3c6EzLlk"
      }
    },
    {
      "cell_type": "code",
      "source": [
        "t = (1,2,['a', 'b', 'c'])\n",
        "t"
      ],
      "metadata": {
        "id": "fbecWtgTzk87"
      },
      "execution_count": null,
      "outputs": []
    },
    {
      "cell_type": "code",
      "source": [
        "t[2]"
      ],
      "metadata": {
        "id": "UptYqD3iznT1"
      },
      "execution_count": null,
      "outputs": []
    },
    {
      "cell_type": "code",
      "source": [
        "t[2].append('d')"
      ],
      "metadata": {
        "id": "52OJsrhhzmHT"
      },
      "execution_count": null,
      "outputs": []
    },
    {
      "cell_type": "code",
      "source": [
        "t[2]"
      ],
      "metadata": {
        "id": "sv9apGxFzpET"
      },
      "execution_count": null,
      "outputs": []
    },
    {
      "cell_type": "code",
      "source": [
        "t"
      ],
      "metadata": {
        "id": "dFXfvfbSGcvd"
      },
      "execution_count": null,
      "outputs": []
    },
    {
      "cell_type": "markdown",
      "source": [
        "Los elementos de tuplas y listas son solo arrays de \"direcciones\" a otros objetos de python. Entonces, el tercer elemento de nuestra tupla `t` es solo un puntero al objeto python `['a', 'b', 'c']`. Siempre que el objeto sea el mismo, manipular esos objetos en su lugar no generará errores."
      ],
      "metadata": {
        "id": "5qt5BI5Hzzoj"
      }
    },
    {
      "cell_type": "markdown",
      "source": [
        "## **Sets o conjuntos**\n",
        "\n",
        "\n",
        "Los conjuntos se crean con llaves `{ }` o la función `set()`.\n",
        "\n",
        "Un **set** es una colección desordenada **sin elementos duplicados**.\n",
        "\n",
        "### Características principales de los sets:\n",
        "- **Desordenados**: Los elementos no tienen un orden específico en un set. No puedes acceder a ellos por un índice como en las listas.\n",
        "- **Elementos únicos**: Los sets no permiten duplicados, lo que significa que si agregas un elemento que ya existe en el set, no se añadirá de nuevo.\n",
        "- **Operaciones matemáticas**: Los sets soportan operaciones como unión, intersección y diferencia.\n"
      ],
      "metadata": {
        "id": "Qhn8R7zYz_hD"
      }
    },
    {
      "cell_type": "code",
      "source": [
        "mochila = {'pc', 'carpeta', 'lapiz', 'cargador', 'hojas'}"
      ],
      "metadata": {
        "id": "XxxiUHWz0gLz"
      },
      "execution_count": null,
      "outputs": []
    },
    {
      "cell_type": "code",
      "source": [
        "mochila[2]"
      ],
      "metadata": {
        "id": "sndjijN_G39W"
      },
      "execution_count": null,
      "outputs": []
    },
    {
      "cell_type": "code",
      "source": [
        "print(mochila)"
      ],
      "metadata": {
        "id": "EU6K4i_40n4L"
      },
      "execution_count": null,
      "outputs": []
    },
    {
      "cell_type": "code",
      "source": [
        "'carpeta' in mochila  # testeamos si carpeta está en mochila"
      ],
      "metadata": {
        "id": "4PQxGHn40ogj"
      },
      "execution_count": null,
      "outputs": []
    },
    {
      "cell_type": "code",
      "source": [
        "mochila2= set(['carpeta','lapiz','hojas'])"
      ],
      "metadata": {
        "id": "LWUJ4Q2X0wDK"
      },
      "execution_count": null,
      "outputs": []
    },
    {
      "cell_type": "code",
      "source": [
        "mochila-mochila2 #objetos en mochila pero no en mochila 2"
      ],
      "metadata": {
        "id": "i3esrjpp06C7"
      },
      "execution_count": null,
      "outputs": []
    },
    {
      "cell_type": "code",
      "source": [
        "mochila2-mochila"
      ],
      "metadata": {
        "id": "0yD8htEQ0-67"
      },
      "execution_count": null,
      "outputs": []
    },
    {
      "cell_type": "code",
      "source": [
        "mochila | mochila2 #en uno o en otro"
      ],
      "metadata": {
        "id": "sJ3N3mCk1AJ8"
      },
      "execution_count": null,
      "outputs": []
    },
    {
      "cell_type": "code",
      "source": [
        "mochila & mochila2 #en ambos"
      ],
      "metadata": {
        "id": "yaIX5JFx1EMU"
      },
      "execution_count": null,
      "outputs": []
    },
    {
      "cell_type": "code",
      "source": [
        "mochila ^ mochila2 #elementos tanto en una o en otra, pero no en ambas"
      ],
      "metadata": {
        "id": "S2_FeRHw1J-T"
      },
      "execution_count": null,
      "outputs": []
    },
    {
      "cell_type": "markdown",
      "source": [
        "Pueden resultar muy útiles para eliminar duplicados y comprobar la presencia de algún elemento."
      ],
      "metadata": {
        "id": "q7w8I48xHIaA"
      }
    },
    {
      "cell_type": "markdown",
      "source": [
        "## **Diccionarios**\n",
        "\n",
        "Otro tipo de datos útil integrado en Python es el **diccionario**.\n",
        "\n",
        "A diferencia de las secuencias (listas, tuplas), que están indexadas por un rango de números, los diccionarios están **indexados por claves**, que pueden ser de cualquier tipo **inmutable** (por ejemplo, cadenas y números siempre pueden ser claves). Los **valores** en un diccionario pueden ser de cualquier tipo.\n",
        "\n",
        "Es mejor pensar en un diccionario como un **conjunto desordenado de claves** con valores asociados, con el requisito de que **las claves sean únicas**.\n",
        "\n",
        "### Características de los diccionarios:\n",
        "\n",
        "- **Desordenados**: Los diccionarios no mantienen un orden de inserción de las claves (aunque en versiones recientes de Python, los diccionarios mantienen el orden de inserción de las claves).\n",
        "  \n",
        "- **Claves únicas**: Las claves en un diccionario deben ser únicas. Si intentas agregar una clave ya existente, el valor asociado a esa clave se actualizará.\n",
        "\n",
        "- **Acceso rápido a los valores**: Puedes acceder a los valores de un diccionario de manera eficiente utilizando su clave.\n",
        "\n",
        "Son útiles para almacenar información relacionada: Los diccionarios son ideales para almacenar datos que están relacionados entre sí. Por ejemplo, un diccionario que almacena la información de una persona (nombre, edad, ciudad)."
      ],
      "metadata": {
        "id": "Zt8-ofI90f0X"
      }
    },
    {
      "cell_type": "code",
      "source": [
        "# añadimos los precios a las mochilas\n",
        "d = {'pc':1000, 'carpeta':10, 'lapiz':0.6, 'cargador':25, 'hojas':5}\n",
        "d"
      ],
      "metadata": {
        "id": "mYv_xVUg2qK7"
      },
      "execution_count": null,
      "outputs": []
    },
    {
      "cell_type": "code",
      "source": [
        "d['pc']"
      ],
      "metadata": {
        "id": "2qzohWwd3ARL"
      },
      "execution_count": null,
      "outputs": []
    },
    {
      "cell_type": "code",
      "source": [
        "d.keys()  # devuelve una lista de las claves o keys"
      ],
      "metadata": {
        "id": "nWGHEWFv3HLs"
      },
      "execution_count": null,
      "outputs": []
    },
    {
      "cell_type": "code",
      "source": [
        "d.values()  # devuelve una lista con los valores"
      ],
      "metadata": {
        "id": "VEAAo14C3IBL"
      },
      "execution_count": null,
      "outputs": []
    },
    {
      "cell_type": "code",
      "source": [
        "d.items()  # devuelve una lista con los pares clave-valor (tuples)"
      ],
      "metadata": {
        "id": "pRWjeyUJ3I2T"
      },
      "execution_count": null,
      "outputs": []
    },
    {
      "cell_type": "code",
      "source": [
        "d['pc']"
      ],
      "metadata": {
        "id": "sKr01koR3Jsr"
      },
      "execution_count": null,
      "outputs": []
    },
    {
      "cell_type": "code",
      "source": [
        "d['pc'] = 1500"
      ],
      "metadata": {
        "id": "jrEUnM5H3Kez"
      },
      "execution_count": null,
      "outputs": []
    },
    {
      "cell_type": "code",
      "source": [
        "d.items()"
      ],
      "metadata": {
        "id": "_hAeszlI3LIr"
      },
      "execution_count": null,
      "outputs": []
    },
    {
      "cell_type": "code",
      "source": [
        "tup = list(d.items())[0]"
      ],
      "metadata": {
        "id": "p50uE4nv3L9N"
      },
      "execution_count": null,
      "outputs": []
    },
    {
      "cell_type": "code",
      "source": [
        "tup"
      ],
      "metadata": {
        "id": "a_wRbukA3uUL"
      },
      "execution_count": null,
      "outputs": []
    },
    {
      "cell_type": "code",
      "source": [
        "func = lambda i: i[0]"
      ],
      "metadata": {
        "id": "7hheiRb_3NNT"
      },
      "execution_count": null,
      "outputs": []
    },
    {
      "cell_type": "code",
      "source": [
        "func"
      ],
      "metadata": {
        "id": "lFY-pbWV3v1L"
      },
      "execution_count": null,
      "outputs": []
    },
    {
      "cell_type": "code",
      "source": [
        "func(tup)"
      ],
      "metadata": {
        "id": "vQbtV79o3OLD"
      },
      "execution_count": null,
      "outputs": []
    },
    {
      "cell_type": "markdown",
      "source": [
        "Esas son las estructuras de datos predeterminadas para contenedores y secuencias. Pero Python tiene algunos más en la biblioteca estándar, en las colecciones de módulos. [¡Ve y echa un vistazo!](https://docs.python.org/3.6/library/collections.html?highlight=collections#module-collections)"
      ],
      "metadata": {
        "id": "PGaxmjeS4KAE"
      }
    },
    {
      "cell_type": "markdown",
      "source": [
        "## **List Comprehensions**\n",
        "\n",
        "Hemos revisado las estructuras de datos básicas en Python, y una de las características más poderosas y concisas es el uso de **List Comprehensions**.\n",
        "\n",
        "En lugar de utilizar bucles `for` tradicionales para iterar sobre elementos, **List Comprehensions** nos permiten crear nuevas listas de manera más compacta y legible.\n",
        "\n",
        "### ¿Qué es una List Comprehension?\n",
        "\n",
        "Una **List Comprehension** es una forma concisa de crear listas en Python utilizando una sintaxis más corta que un bucle `for`.\n",
        "\n",
        "En su forma básica, sigue este formato:\n",
        "\n",
        "```python\n",
        "[expresión for item in iterable]\n"
      ],
      "metadata": {
        "id": "P_M7yEvz44CT"
      }
    },
    {
      "cell_type": "markdown",
      "source": [
        "¡La list comprehension proporciona una forma concisa de crear listas y es una de las ventajas de Python!"
      ],
      "metadata": {
        "id": "F-AuzmN36Dqz"
      }
    },
    {
      "cell_type": "code",
      "source": [
        "m = []\n",
        "for x in range(10):\n",
        "    m.append(x**2)"
      ],
      "metadata": {
        "id": "it2f_2Yw6Qcc"
      },
      "execution_count": null,
      "outputs": []
    },
    {
      "cell_type": "code",
      "source": [
        "m"
      ],
      "metadata": {
        "id": "aee8N0006RKL"
      },
      "execution_count": null,
      "outputs": []
    },
    {
      "cell_type": "code",
      "source": [
        "l = [x**2 for x in range(10)]\n",
        "l"
      ],
      "metadata": {
        "id": "9RLctL1G6NRr"
      },
      "execution_count": null,
      "outputs": []
    },
    {
      "cell_type": "markdown",
      "source": [
        "La estructura general si le añadimos un condicional es:\n",
        "\n",
        "```python\n",
        "[ expression for item in list if conditional ]\n",
        "```\n",
        "\n",
        "Equivalente a:\n",
        "\n",
        "```python\n",
        "for item in list:\n",
        "    if conditional:\n",
        "        expression\n",
        "```\n",
        "\n"
      ],
      "metadata": {
        "id": "YvafaCwt7HGj"
      }
    },
    {
      "cell_type": "code",
      "source": [
        "[x for x in l if x%2 == 0]  # filtramos !"
      ],
      "metadata": {
        "id": "HbjT9Irp6WTT"
      },
      "execution_count": null,
      "outputs": []
    },
    {
      "cell_type": "code",
      "source": [
        "g=[]\n",
        "for x in l:\n",
        "    if x%2==0:\n",
        "        g.append(x)"
      ],
      "metadata": {
        "id": "wXbMttC56toj"
      },
      "execution_count": null,
      "outputs": []
    },
    {
      "cell_type": "code",
      "source": [
        "g"
      ],
      "metadata": {
        "id": "oBcxi4tw7D_T"
      },
      "execution_count": null,
      "outputs": []
    },
    {
      "cell_type": "markdown",
      "source": [
        "Las list comprehensions son más rápidas que los loops `for`:"
      ],
      "metadata": {
        "id": "vZ-7gzx_Qupe"
      }
    },
    {
      "cell_type": "code",
      "source": [
        "%%timeit\n",
        "\n",
        "l = []\n",
        "for i in range(100000):\n",
        "    l.append(i)"
      ],
      "metadata": {
        "id": "t2P4Vhgj7T6Y"
      },
      "execution_count": null,
      "outputs": []
    },
    {
      "cell_type": "code",
      "source": [
        "%%timeit\n",
        "\n",
        "l = [i for i in range(100000)]"
      ],
      "metadata": {
        "id": "EtG5e6-G7U_M"
      },
      "execution_count": null,
      "outputs": []
    },
    {
      "cell_type": "markdown",
      "source": [
        "### **Otros usos de las comprehensions**\n",
        "\n",
        "Esta funcionalidad se puede aplicar al resto de colecciones, además de las listas.\n",
        "\n",
        "#### **`Set` comprehensions**\n",
        "\n",
        "Expresiones entre `{ }`.\n",
        "\n",
        "```python\n",
        "{ expression for item in list if conditional }\n",
        "```"
      ],
      "metadata": {
        "id": "ftA6BBGJ7Xxj"
      }
    },
    {
      "cell_type": "code",
      "source": [
        "{x.upper() for x in mochila}"
      ],
      "metadata": {
        "id": "jwEjFIfP8vyM"
      },
      "execution_count": null,
      "outputs": []
    },
    {
      "cell_type": "markdown",
      "source": [
        "#### **`Dict` comprehensions**\n",
        "\n",
        "Expresiones entre `{ }`.\n",
        "\n",
        "```python\n",
        "{ key:value for v1, v2 in list_of_tuples }\n",
        "```\n",
        "\n",
        "*Truco*: Diccionario inverso- cambiando key:value por value:key"
      ],
      "metadata": {
        "id": "CeGPlEEF84Hb"
      }
    },
    {
      "cell_type": "code",
      "source": [
        "d = {'pc':1000, 'carpeta':10, 'lapiz':0.6, 'cargador':25, 'hojas':5}\n",
        "d"
      ],
      "metadata": {
        "id": "Ln1-XQj283Z8"
      },
      "execution_count": null,
      "outputs": []
    },
    {
      "cell_type": "code",
      "source": [
        "{v:k for k, v in d.items()}"
      ],
      "metadata": {
        "id": "SvIGdfP69Nn9"
      },
      "execution_count": null,
      "outputs": []
    },
    {
      "cell_type": "markdown",
      "source": [
        "Filtramos el diccionario para obtener uno nuevo con los objetos más baratos (<=10€)"
      ],
      "metadata": {
        "id": "szclagUm9UtD"
      }
    },
    {
      "cell_type": "code",
      "source": [
        "{k:v for k, v in d.items() if v <= 10}"
      ],
      "metadata": {
        "id": "xEscfrSX9elN"
      },
      "execution_count": null,
      "outputs": []
    },
    {
      "cell_type": "markdown",
      "source": [
        "#EJERCICIOS"
      ],
      "metadata": {
        "id": "_dcS4tSq_80L"
      }
    },
    {
      "cell_type": "markdown",
      "source": [
        "1. Crea una lista con tres elementos y muestra su contenido y longitud.\n",
        "2. Crear una lista de números del 1 al 100\n",
        "3. Eleva al cuadrado los elementos impares de la lista l\n",
        "4. Filtra los números que son múltiplos de 7 y múltiplos de 3, y calcula la raíz cuadrada de esos números.\n",
        "5. Crea una funcion \"is_anagram\" que tome dos parámetros:\n",
        "\n",
        "  - **left**: una palabra, como una cadena de texto en Python.\n",
        "  - **right**: otra palabra, como una cadena de texto en Python.\n",
        "\n",
        "  La función debe devolver **True** si las dos palabras son anagramas, y **False** en caso contrario.\n",
        "\n"
      ],
      "metadata": {
        "id": "1zrlIInhAPcL"
      }
    },
    {
      "cell_type": "markdown",
      "source": [
        "https://genepy.org/exercises"
      ],
      "metadata": {
        "id": "ghrQXd9CVss4"
      }
    }
  ]
}