{
  "nbformat": 4,
  "nbformat_minor": 0,
  "metadata": {
    "colab": {
      "provenance": []
    },
    "kernelspec": {
      "name": "python3",
      "display_name": "Python 3"
    },
    "language_info": {
      "name": "python"
    }
  },
  "cells": [
    {
      "cell_type": "markdown",
      "source": [
        "# **Ejercicio pandas y visualización**"
      ],
      "metadata": {
        "id": "52Hnun05wJU_"
      }
    },
    {
      "cell_type": "code",
      "execution_count": null,
      "metadata": {
        "id": "lH4AsR9FumKA"
      },
      "outputs": [],
      "source": []
    },
    {
      "cell_type": "markdown",
      "source": [
        "| ID | sexo | edad\\_años | peso\\_kg | altura\\_cm | pres\\_sis\\_mmHg | pres\\_dia\\_mmHg | colesterol\\_mg/dl | glucosa\\_mg/dl | horas\\_sueño | dosis\\_mg |\n",
        "| -- | ---- | ---------- | -------- | ---------- | --------------- | --------------- | ----------------- | -------------- | ------------ | --------- |\n",
        "| 1  | M    | 45         | 82.4     | 175        | 130             | 85              | 210               | 98             | 7            | 50        |\n",
        "| 2  | F    | 52         | 68.1     | 162        | 140             | 90              | 250               | —              | 6            | 75        |\n",
        "| 3  | M    | 37         | 90.5     | 180        | —               | 88              | 195               | 105            | 8            | 60        |\n",
        "| 4  | F    | 60         | —        | 158        | 150             | 95              | 270               | 120            | 5            | 80        |\n",
        "| 5  | M    | 50         | 78.2     | —          | 135             | —               | 230               | 110            | 7            | —         |\n",
        "| 6  | F    | 42         | 70.3     | 165        | 128             | 82              | —                 | 100            | 6            | 55        |\n",
        "| 7  | M    | 55         | 85.0     | 178        | 145             | 93              | 260               | 115            | —            | 70        |\n",
        "| 8  | F    | 48         | 65.7     | 160        | 132             | 86              | 220               | 102            | 7            | 65        |\n",
        "| 9  | M    | 39         | —        | 172        | 138             | 89              | 205               | 108            | 8            | 60        |\n",
        "| 10 | F    | 58         | 72.5     | 168        | —               | 90              | 255               | 118            | 6            | 75        |\n",
        "| 11 | M    | 46         | 88.1     | 182        | 142             | 92              | 240               | 112            | 7            | 68        |\n",
        "| 12 | F    | 43         | 69.9     | 164        | 130             | —               | 215               | —              | 6            | 58        |\n"
      ],
      "metadata": {
        "id": "Uc0zmgpAu0yR"
      }
    },
    {
      "cell_type": "markdown",
      "source": [
        "(Los guiones “—” indican valores faltantes.)"
      ],
      "metadata": {
        "id": "CFVSWEVNu64U"
      }
    },
    {
      "cell_type": "code",
      "source": [
        "data = [\n",
        "    {\"ID\": 1, \"sexo\": \"M\", \"edad_años\": 45, \"peso_kg\": 82.4, \"altura_cm\": 175, \"pres_sis_mmHg\": 130, \"pres_dia_mmHg\": 85, \"colesterol_mg/dl\": 210, \"glucosa_mg/dl\": 98, \"horas_sueño\": 7, \"dosis_mg\": 50},\n",
        "    {\"ID\": 2, \"sexo\": \"F\", \"edad_años\": 52, \"peso_kg\": 68.1, \"altura_cm\": 162, \"pres_sis_mmHg\": 140, \"pres_dia_mmHg\": 90, \"colesterol_mg/dl\": 250, \"glucosa_mg/dl\": None, \"horas_sueño\": 6, \"dosis_mg\": 75},\n",
        "    {\"ID\": 3, \"sexo\": \"M\", \"edad_años\": 37, \"peso_kg\": 90.5, \"altura_cm\": 180, \"pres_sis_mmHg\": None, \"pres_dia_mmHg\": 88, \"colesterol_mg/dl\": 195, \"glucosa_mg/dl\": 105, \"horas_sueño\": 8, \"dosis_mg\": 60},\n",
        "    {\"ID\": 4, \"sexo\": \"F\", \"edad_años\": 60, \"peso_kg\": None, \"altura_cm\": 158, \"pres_sis_mmHg\": 150, \"pres_dia_mmHg\": 95, \"colesterol_mg/dl\": 270, \"glucosa_mg/dl\": 120, \"horas_sueño\": 5, \"dosis_mg\": 80},\n",
        "    {\"ID\": 5, \"sexo\": \"M\", \"edad_años\": 50, \"peso_kg\": 78.2, \"altura_cm\": None, \"pres_sis_mmHg\": 135, \"pres_dia_mmHg\": None, \"colesterol_mg/dl\": 230, \"glucosa_mg/dl\": 110, \"horas_sueño\": 7, \"dosis_mg\": None},\n",
        "    {\"ID\": 6, \"sexo\": \"F\", \"edad_años\": 42, \"peso_kg\": 70.3, \"altura_cm\": 165, \"pres_sis_mmHg\": 128, \"pres_dia_mmHg\": 82, \"colesterol_mg/dl\": None, \"glucosa_mg/dl\": 100, \"horas_sueño\": 6, \"dosis_mg\": 55},\n",
        "    {\"ID\": 7, \"sexo\": \"M\", \"edad_años\": 55, \"peso_kg\": 85.0, \"altura_cm\": 178, \"pres_sis_mmHg\": 145, \"pres_dia_mmHg\": 93, \"colesterol_mg/dl\": 260, \"glucosa_mg/dl\": 115, \"horas_sueño\": None, \"dosis_mg\": 70},\n",
        "    {\"ID\": 8, \"sexo\": \"F\", \"edad_años\": 48, \"peso_kg\": 65.7, \"altura_cm\": 160, \"pres_sis_mmHg\": 132, \"pres_dia_mmHg\": 86, \"colesterol_mg/dl\": 220, \"glucosa_mg/dl\": 102, \"horas_sueño\": 7, \"dosis_mg\": 65},\n",
        "    {\"ID\": 9, \"sexo\": \"M\", \"edad_años\": 39, \"peso_kg\": None, \"altura_cm\": 172, \"pres_sis_mmHg\": 138, \"pres_dia_mmHg\": 89, \"colesterol_mg/dl\": 205, \"glucosa_mg/dl\": 108, \"horas_sueño\": 8, \"dosis_mg\": 60},\n",
        "    {\"ID\": 10, \"sexo\": \"F\", \"edad_años\": 58, \"peso_kg\": 72.5, \"altura_cm\": 168, \"pres_sis_mmHg\": None, \"pres_dia_mmHg\": 90, \"colesterol_mg/dl\": 255, \"glucosa_mg/dl\": 118, \"horas_sueño\": 6, \"dosis_mg\": 75},\n",
        "    {\"ID\": 11, \"sexo\": \"M\", \"edad_años\": 46, \"peso_kg\": 88.1, \"altura_cm\": 182, \"pres_sis_mmHg\": 142, \"pres_dia_mmHg\": 92, \"colesterol_mg/dl\": 240, \"glucosa_mg/dl\": 112, \"horas_sueño\": 7, \"dosis_mg\": 68},\n",
        "    {\"ID\": 12, \"sexo\": \"F\", \"edad_años\": 43, \"peso_kg\": 69.9, \"altura_cm\": 164, \"pres_sis_mmHg\": 130, \"pres_dia_mmHg\": None, \"colesterol_mg/dl\": 215, \"glucosa_mg/dl\": None, \"horas_sueño\": 6, \"dosis_mg\": 58},\n",
        "]\n"
      ],
      "metadata": {
        "id": "hvRJofkLwEPM"
      },
      "execution_count": null,
      "outputs": []
    },
    {
      "cell_type": "markdown",
      "source": [
        "# Enunciados de ejercicio\n",
        "\n",
        "## Carga de datos\n",
        "\n",
        "- Crea un dataframe a partir de los datos\n",
        "\n",
        "## Exploración inicial\n",
        "\n",
        "- Muestra las primeras 5 filas.\n",
        "- Obtén la forma del DataFrame y la información general.\n",
        "- Calcula estadísticas descriptivas.\n",
        "- Cuenta cuántos valores faltantes hay en cada columna.\n",
        "\n",
        "## Imputación de valores faltantes\n",
        "\n",
        "- Imputa los valores faltantes de `glucosa_mg/dl` y `colesterol_mg/dl` con la mediana de cada columna.\n",
        "- Imputa los faltantes de `peso_kg` con la media, y los de `pres_sis_mmHg` y `pres_dia_mmHg` con un valor fijo de 135 y 90 respectivamente.\n",
        "- Imputa cualquier faltante en `dosis_mg` con 65 (valor común).\n",
        "- Verifica que ya no queden valores nulos.\n",
        "\n",
        "## Visualización\n",
        "\n",
        "- Crea un scatter plot de `peso_kg` vs. `altura_cm`, coloreando los puntos según `sexo`.\n",
        "- Dibuja un boxplot de `colesterol_mg/dl` para cada grupo de `sexo`.\n",
        "- Traza una línea que muestre la media de `pres_sis_mmHg` vs. `edad_años` (agrupando por rangos de 10 años).\n",
        "\n",
        "## Análisis adicional\n",
        "\n",
        "- Genera una nueva columna `IMC = peso_kg / (altura_cm/100)**2`.\n",
        "- Calcula la correlación de Pearson entre `IMC` y `colesterol_mg/dl`.\n",
        "- Identifica outliers en la columna `IMC` usando el método del IQR y marca cada fila con una nueva columna booleana `es_outlier_IMC`.\n",
        "- **(Bonus):** Crea un histograma de `horas_sueño` y comenta si existe alguna relación perceptible entre sueño y niveles de glucosa.\n"
      ],
      "metadata": {
        "id": "us27twNdu9iE"
      }
    },
    {
      "cell_type": "code",
      "source": [],
      "metadata": {
        "id": "etHQnU_eu0QN"
      },
      "execution_count": null,
      "outputs": []
    }
  ]
}