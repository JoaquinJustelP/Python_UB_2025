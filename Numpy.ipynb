{
  "cells": [
    {
      "cell_type": "markdown",
      "metadata": {
        "id": "mWDA895rpJhd"
      },
      "source": [
        "# **NumPy**\n"
      ]
    },
    {
      "cell_type": "code",
      "execution_count": 3,
      "metadata": {
        "id": "78KPmVQIpJhj"
      },
      "outputs": [],
      "source": [
        "import numpy as np"
      ]
    },
    {
      "cell_type": "markdown",
      "source": [
        "NumPy es el paquete fundamental necesario para la computación científica con Python.\n",
        "\n",
        "Proporciona:\n",
        "\n",
        "+ Un poderoso **objeto array N-dimensional** `ndarray`\n",
        "+ Funciones sofisticadas (broadcasting)\n",
        "+ Herramientas para integrar código C/C++ y Fortran\n",
        "+ Útiles capacidades de álgebra lineal, transformada de Fourier y números aleatorios"
      ],
      "metadata": {
        "id": "jKGj-bb9Dwd6"
      }
    },
    {
      "cell_type": "markdown",
      "metadata": {
        "id": "Pg0r4S_upJhk"
      },
      "source": [
        "+ **Operaciones vectorizadas**"
      ]
    },
    {
      "cell_type": "code",
      "execution_count": null,
      "metadata": {
        "scrolled": true,
        "id": "czq0GWBMpJhk"
      },
      "outputs": [],
      "source": [
        "[x**2 for x in range(10)]"
      ]
    },
    {
      "cell_type": "code",
      "execution_count": null,
      "metadata": {
        "id": "i2fTyO-qpJhl"
      },
      "outputs": [],
      "source": [
        "np.arange(10)**2"
      ]
    },
    {
      "cell_type": "markdown",
      "metadata": {
        "id": "FEkSgZGopJhl"
      },
      "source": [
        "+ Velocidad:"
      ]
    },
    {
      "cell_type": "code",
      "execution_count": null,
      "metadata": {
        "id": "lTGl6KwApJhl"
      },
      "outputs": [],
      "source": [
        "%timeit [x**2 for x in list(range(int(10e6)))]"
      ]
    },
    {
      "cell_type": "code",
      "execution_count": null,
      "metadata": {
        "id": "bTbrgoW6pJhm"
      },
      "outputs": [],
      "source": [
        "%timeit np.arange(10e6)**2"
      ]
    },
    {
      "cell_type": "markdown",
      "source": [
        "Esto es gracias a su estructura de datos."
      ],
      "metadata": {
        "id": "msEDJmhZEpcM"
      }
    },
    {
      "cell_type": "markdown",
      "metadata": {
        "id": "0NxWBBEipJhn"
      },
      "source": [
        "## **El `ndarray`**\n",
        "\n",
        "El objeto principal de NumPy es el array multidimensional homogéneo. Es una tabla de elementos (normalmente números), todos del mismo tipo, indexados por una tupla de enteros positivos. En NumPy las dimensiones se llaman ejes (_axes_).\n",
        "\n",
        "Cada eje representa una dimensión del array, y el número total de ejes se denomina orden (rank) del array. Los arrays pueden tener una o más dimensiones, lo que permite representar estructuras de datos como vectores, matrices o incluso tensores de mayor orden\n"
      ]
    },
    {
      "cell_type": "code",
      "execution_count": null,
      "metadata": {
        "id": "3PvsUY00pJho"
      },
      "outputs": [],
      "source": [
        "import numpy as np"
      ]
    },
    {
      "cell_type": "markdown",
      "metadata": {
        "id": "d2spLYWqpJho"
      },
      "source": [
        "### Rutinas de creación de arrays"
      ]
    },
    {
      "cell_type": "code",
      "execution_count": null,
      "metadata": {
        "scrolled": true,
        "id": "GkeUJNnnpJho"
      },
      "outputs": [],
      "source": [
        "# de un objeto python (ejemplo: lista)\n",
        "a = np.array([1,2,3,4,5,6])\n",
        "a"
      ]
    },
    {
      "cell_type": "code",
      "execution_count": null,
      "metadata": {
        "scrolled": true,
        "id": "MrAvIl9NpJho"
      },
      "outputs": [],
      "source": [
        "type(a)"
      ]
    },
    {
      "cell_type": "markdown",
      "metadata": {
        "id": "t8jPN9YJpJhp"
      },
      "source": [
        "O usando marcadores de posición Numpy:"
      ]
    },
    {
      "cell_type": "code",
      "execution_count": null,
      "metadata": {
        "id": "DAEqiQudpJhp"
      },
      "outputs": [],
      "source": [
        "np.zeros(5)"
      ]
    },
    {
      "cell_type": "code",
      "execution_count": null,
      "metadata": {
        "id": "ll86gbd-pJhp"
      },
      "outputs": [],
      "source": [
        "np.ones(5)"
      ]
    },
    {
      "cell_type": "code",
      "execution_count": null,
      "metadata": {
        "id": "-rdI_0SgpJhp"
      },
      "outputs": [],
      "source": [
        "np.empty(10, dtype=int)  #  Array de datos no inicializados (arbitrarios) de la forma dada, dtype"
      ]
    },
    {
      "cell_type": "markdown",
      "metadata": {
        "id": "g138lAwbpJhp"
      },
      "source": [
        "O con `range`"
      ]
    },
    {
      "cell_type": "code",
      "execution_count": null,
      "metadata": {
        "scrolled": true,
        "id": "lHNcBpNRpJhq"
      },
      "outputs": [],
      "source": [
        "np.arange(10, dtype=np.float64)"
      ]
    },
    {
      "cell_type": "markdown",
      "metadata": {
        "id": "5WoUp0cQpJhq"
      },
      "source": [
        "También hacer matrices de listas de listas:"
      ]
    },
    {
      "cell_type": "code",
      "execution_count": null,
      "metadata": {
        "id": "pRr8X7V-pJhq"
      },
      "outputs": [],
      "source": [
        "a = np.array([[1,2,3,4],[5,6,7,8]])\n",
        "a"
      ]
    },
    {
      "cell_type": "markdown",
      "metadata": {
        "id": "vbg94kcTpJhq"
      },
      "source": [
        "\n",
        "O inicializar arrays con la forma de otro array:"
      ]
    },
    {
      "cell_type": "code",
      "execution_count": null,
      "metadata": {
        "id": "SlsV3J6cpJhq"
      },
      "outputs": [],
      "source": [
        "np.zeros_like(a)"
      ]
    },
    {
      "cell_type": "markdown",
      "metadata": {
        "id": "Ve5zBpq7pJhq"
      },
      "source": [
        "O matrices útiles como la identidad:"
      ]
    },
    {
      "cell_type": "code",
      "execution_count": null,
      "metadata": {
        "id": "Y72J9VX7pJhq"
      },
      "outputs": [],
      "source": [
        "np.eye(3)"
      ]
    },
    {
      "cell_type": "code",
      "execution_count": null,
      "metadata": {
        "id": "6P1BtZmDpJhq"
      },
      "outputs": [],
      "source": [
        "np.identity(3)"
      ]
    },
    {
      "cell_type": "markdown",
      "metadata": {
        "id": "09ll6WRkpJhr"
      },
      "source": [
        "### **Atributos del `ndarray`**"
      ]
    },
    {
      "cell_type": "code",
      "execution_count": null,
      "metadata": {
        "id": "DC7fFt89pJhr"
      },
      "outputs": [],
      "source": [
        "# devuelve la forma de la matriz (filas, columnas)\n",
        "# si la matriz es 1d devuelve (n,)\n",
        "a.shape"
      ]
    },
    {
      "cell_type": "code",
      "execution_count": null,
      "metadata": {
        "id": "NYkox-wRpJhr"
      },
      "outputs": [],
      "source": [
        "# devuelve el tipo de datos\n",
        "a.dtype"
      ]
    },
    {
      "cell_type": "code",
      "execution_count": null,
      "metadata": {
        "id": "hXrSyo7bpJhr"
      },
      "outputs": [],
      "source": [
        "# número de dimensiones\n",
        "a.ndim"
      ]
    },
    {
      "cell_type": "code",
      "source": [
        "a.size #devuelve el tamaño total del array"
      ],
      "metadata": {
        "id": "dXJf0fwwx3q8"
      },
      "execution_count": null,
      "outputs": []
    },
    {
      "cell_type": "markdown",
      "metadata": {
        "id": "N-cQJ2ENpJhr"
      },
      "source": [
        "Veamos un array de dos dimensiones\n",
        "\n"
      ]
    },
    {
      "cell_type": "code",
      "execution_count": null,
      "metadata": {
        "id": "LXoPMXTGpJhr"
      },
      "outputs": [],
      "source": [
        "aa = np.arange(12).reshape(3,4)\n",
        "aa"
      ]
    },
    {
      "cell_type": "code",
      "execution_count": null,
      "metadata": {
        "id": "ABmBC4SWpJhs"
      },
      "outputs": [],
      "source": [
        "aa.shape"
      ]
    },
    {
      "cell_type": "code",
      "execution_count": null,
      "metadata": {
        "id": "0bGI6PhTpJhs"
      },
      "outputs": [],
      "source": [
        "aa.ndim"
      ]
    },
    {
      "cell_type": "markdown",
      "metadata": {
        "id": "NzTj0hZvpJhs"
      },
      "source": [
        "## **Funciones Numpy**\n",
        "\n",
        "Una [función universal](https://docs.scipy.org/doc/numpy/reference/ufuncs.html) (o ufunc para abreviar) es una función que opera en ndarrays elemento por elemento, que admite la transmisión de matrices, la conversión de tipos y varias otras características estándar.\n",
        "\n",
        "| Function Name | Versión NaN-segura | Descripción                                      |\n",
        "|---------------|--------------------|--------------------------------------------------|\n",
        "| np.sum        | np.nansum          | Calcular la suma de los elementos                |\n",
        "| np.prod       | np.nanprod         | Calcular el producto de los elementos             |\n",
        "| np.mean       | np.nanmean         | Calcular la media de los elementos               |\n",
        "| np.std        | np.nanstd          | Calcular la desviación estándar de los elementos |\n",
        "| np.var        | np.nanvar          | Calcular la varianza de los elementos            |\n",
        "| np.min        | np.nanmin          | Encontrar el valor mínimo                         |\n",
        "| np.max        | np.nanmax          | Encontrar el valor máximo                         |\n",
        "| np.argmin     | np.nanargmin       | Encontrar el índice del valor mínimo              |\n",
        "| np.argmax     | np.nanargmax       | Encontrar el índice del valor máximo              |\n",
        "| np.median     | np.nanmedian       | Calcular la mediana de los elementos              |\n",
        "| np.percentile | np.nanpercentile   | Calcular estadísticas basadas en el rango         |\n",
        "| np.any        | N/A                | Evaluar si algún elemento es verdadero            |\n",
        "| np.all        | N/A                | Evaluar si todos los elementos son verdaderos     |\n",
        "\n",
        "\n",
        "Normalmente todas esas funciones están disponibles como método del objeto `ndarray`."
      ]
    },
    {
      "cell_type": "code",
      "execution_count": 4,
      "metadata": {
        "id": "Vh4kpefwpJht"
      },
      "outputs": [],
      "source": [
        "a = np.arange(10)"
      ]
    },
    {
      "cell_type": "code",
      "execution_count": null,
      "metadata": {
        "id": "wtIqpTFppJht"
      },
      "outputs": [],
      "source": [
        "np.sum(a) #suma"
      ]
    },
    {
      "cell_type": "code",
      "execution_count": null,
      "metadata": {
        "id": "7ia02T03pJht"
      },
      "outputs": [],
      "source": [
        "np.cumsum(a)  # suma acumulativa"
      ]
    },
    {
      "cell_type": "code",
      "execution_count": null,
      "metadata": {
        "id": "VObJwfTLpJht"
      },
      "outputs": [],
      "source": [
        "np.mean(a) #media"
      ]
    },
    {
      "cell_type": "code",
      "execution_count": null,
      "metadata": {
        "id": "QBMVOxA6pJht"
      },
      "outputs": [],
      "source": [
        "a.argmax() # devuelve el índice del valor máximo"
      ]
    },
    {
      "cell_type": "markdown",
      "metadata": {
        "id": "uKM_StI7pJht"
      },
      "source": [
        "Las funciones Numpy normalmente aceptan un argumento de eje (_axis_) cuando el array tiene más de una dimensión"
      ]
    },
    {
      "cell_type": "code",
      "execution_count": 5,
      "metadata": {
        "id": "_mi8aTMLpJht",
        "colab": {
          "base_uri": "https://localhost:8080/"
        },
        "outputId": "b7f326c8-78da-47c7-ebb5-18f363b93eb4"
      },
      "outputs": [
        {
          "output_type": "execute_result",
          "data": {
            "text/plain": [
              "array([[0, 1, 2, 3, 4],\n",
              "       [5, 6, 7, 8, 9]])"
            ]
          },
          "metadata": {},
          "execution_count": 5
        }
      ],
      "source": [
        "a = a.reshape(2,5)\n",
        "a"
      ]
    },
    {
      "cell_type": "code",
      "execution_count": 6,
      "metadata": {
        "id": "eo3d1wSTpJht",
        "colab": {
          "base_uri": "https://localhost:8080/"
        },
        "outputId": "ffbeb805-85de-47cf-a1d6-755853d8fb69"
      },
      "outputs": [
        {
          "output_type": "execute_result",
          "data": {
            "text/plain": [
              "array([ 5,  7,  9, 11, 13])"
            ]
          },
          "metadata": {},
          "execution_count": 6
        }
      ],
      "source": [
        "a.sum(axis=0) # array con la suma de los elementos de cada columna"
      ]
    },
    {
      "cell_type": "code",
      "execution_count": 8,
      "metadata": {
        "id": "oT7RHqRmpJhv",
        "colab": {
          "base_uri": "https://localhost:8080/"
        },
        "outputId": "e19e8507-74f4-4a1f-ff12-f37a002ca9f4"
      },
      "outputs": [
        {
          "output_type": "execute_result",
          "data": {
            "text/plain": [
              "array([10, 35])"
            ]
          },
          "metadata": {},
          "execution_count": 8
        }
      ],
      "source": [
        "a.sum(axis=1) # array con la suma de los elementos de cada fila"
      ]
    },
    {
      "cell_type": "markdown",
      "metadata": {
        "id": "cXIIa9HCpJhv"
      },
      "source": [
        "## Aritmética de arrays\n",
        "\n",
        "Numpy permite hacer aritmética básica si los arrays tienen la misma forma"
      ]
    },
    {
      "cell_type": "code",
      "execution_count": null,
      "metadata": {
        "id": "LahG5txqpJhv"
      },
      "outputs": [],
      "source": [
        "a = np.arange(10)\n",
        "a"
      ]
    },
    {
      "cell_type": "code",
      "execution_count": null,
      "metadata": {
        "id": "GzLBSUp_pJhv"
      },
      "outputs": [],
      "source": [
        "b = a[::-1]  # ¡Cuidado con la definición de nuevas matrices a partir de segmentos!\n",
        "b"
      ]
    },
    {
      "cell_type": "code",
      "execution_count": null,
      "metadata": {
        "id": "MrMgY9dypJhw"
      },
      "outputs": [],
      "source": [
        "np.may_share_memory(a, b)  # Si b es una vista de a -> True"
      ]
    },
    {
      "cell_type": "code",
      "execution_count": null,
      "metadata": {
        "id": "tIQapvG9pJhw"
      },
      "outputs": [],
      "source": [
        "a + b"
      ]
    },
    {
      "cell_type": "code",
      "execution_count": null,
      "metadata": {
        "id": "ZsGtPo5bpJhw"
      },
      "outputs": [],
      "source": [
        "a - b"
      ]
    },
    {
      "cell_type": "markdown",
      "metadata": {
        "id": "_KZoP029pJhw"
      },
      "source": [
        "En NumPy, es fundamental entender la diferencia entre \"view\" (vista) y \"copy\" (copia) al manipular arrays. Estas diferencias afectan cómo se comportan los datos y pueden tener un impacto significativo en el rendimiento y en la gestión de la memoria. Aquí está un resumen conciso de las diferencias entre \"view\" y \"copy\" en NumPy:\n",
        "\n",
        "##  **Vista (\"View\"):**\n",
        "* Una vista en NumPy es una nueva vista (o vista) de los mismos datos subyacentes.\n",
        "* Una vista no crea una nueva copia de los datos; simplemente proporciona una vista diferente de los mismos datos.\n",
        "* Las operaciones en una vista afectarán a los datos subyacentes y viceversa.\n",
        "* Se crea una vista utilizando métodos como slicing (array[start:end]), transposición (array.T), y reshape (array.reshape(shape)), entre otros.\n",
        "* Las vistas son útiles para manipular datos sin hacer copias innecesarias, lo que ahorra memoria y tiempo de ejecución.\n",
        "\n",
        "##  **Copia (\"Copy\"):**\n",
        "* Una copia en NumPy crea una nueva instancia de los datos con una nueva ubicación en memoria.\n",
        "* Los cambios en una copia no afectarán a los datos originales y viceversa.\n",
        "* Se realiza una copia explícitamente utilizando el método array.copy().\n",
        "* Las copias son útiles cuando necesitas modificar los datos de forma independiente sin afectar a los datos originales.\n",
        "* Ten en cuenta que realizar copias puede ser costoso en términos de memoria y tiempo de ejecución, especialmente para grandes conjuntos de datos.\n",
        "\n",
        "Revisar [view vs copy](https://scipy-cookbook.readthedocs.io/items/ViewsVsCopies.html)\n"
      ]
    },
    {
      "cell_type": "code",
      "source": [
        "import numpy as np\n",
        "\n",
        "# Crear un array original\n",
        "original_array = np.array([1, 2, 3, 4, 5])\n",
        "\n",
        "# Crear una vista del array original (mismo conjunto de datos)\n",
        "view_array = original_array[1:4]\n",
        "\n",
        "# Modificar la vista (afecta al array original)\n",
        "view_array[0] = 10\n",
        "print(original_array)  # Output: [ 1 10  3  4  5]\n",
        "\n",
        "# Crear una copia del array original\n",
        "copy_array = original_array.copy()\n",
        "\n",
        "# Modificar la copia (no afecta al array original)\n",
        "copy_array[2] = 30\n",
        "print(original_array)  # Output: [ 1 10  3  4  5]\n",
        "print(copy_array)      # Output: [ 1 10 30  4  5]\n"
      ],
      "metadata": {
        "id": "83psooh9yr49"
      },
      "execution_count": null,
      "outputs": []
    },
    {
      "cell_type": "markdown",
      "metadata": {
        "id": "2Q2Jz_L5pJhw"
      },
      "source": [
        "## **Slicing `ndarray`**\n",
        "\n",
        "`ndarrays` utiliza un método de corte similar a las listas o tuplas de Python simple:\n",
        "\n",
        "    [start:stop:stride]\n",
        "\n",
        "Dado que los arrays pueden tener un número arbitrario de dimensiones, el slicing de cada eje está separado por comas:\n",
        "\n",
        "    [axis 0, axis 1, ...axis n]"
      ]
    },
    {
      "cell_type": "code",
      "execution_count": null,
      "metadata": {
        "id": "ppnRAV5spJhw"
      },
      "outputs": [],
      "source": [
        "arr = np.arange(9).reshape(3,3)\n",
        "arr"
      ]
    },
    {
      "cell_type": "code",
      "execution_count": null,
      "metadata": {
        "scrolled": true,
        "id": "mdKBZ78upJhw"
      },
      "outputs": [],
      "source": [
        "arr[0]  # 1º fila"
      ]
    },
    {
      "cell_type": "code",
      "execution_count": null,
      "metadata": {
        "id": "LMuI9QR7pJhx"
      },
      "outputs": [],
      "source": [
        "arr[:,0] # todas las filas, columna 0"
      ]
    },
    {
      "cell_type": "code",
      "execution_count": null,
      "metadata": {
        "id": "X36gS-vopJhx"
      },
      "outputs": [],
      "source": [
        "arr[0,0]"
      ]
    },
    {
      "cell_type": "code",
      "execution_count": null,
      "metadata": {
        "id": "vRZxU5y6pJhx"
      },
      "outputs": [],
      "source": [
        "arr[::-1]  # filas invertidas"
      ]
    },
    {
      "cell_type": "code",
      "execution_count": null,
      "metadata": {
        "scrolled": true,
        "id": "TaICSxeipJhx"
      },
      "outputs": [],
      "source": [
        "arr[::-1, ::-1]  # columnas invertidas"
      ]
    },
    {
      "cell_type": "code",
      "execution_count": null,
      "metadata": {
        "id": "C-MRhRN7pJhx"
      },
      "outputs": [],
      "source": [
        "arr[::2, ::2]"
      ]
    },
    {
      "cell_type": "markdown",
      "metadata": {
        "id": "eDsKQLGwpJhy"
      },
      "source": [
        "### Se puede modificar la forma de los `nparrays`\n",
        "\n",
        "\n"
      ]
    },
    {
      "cell_type": "code",
      "execution_count": null,
      "metadata": {
        "id": "C6vfQANzpJhy"
      },
      "outputs": [],
      "source": [
        "arr = np.arange(15).reshape(3,5)\n",
        "arr"
      ]
    },
    {
      "cell_type": "code",
      "execution_count": null,
      "metadata": {
        "id": "jC0JExM3pJhy"
      },
      "outputs": [],
      "source": [
        "arr.T #traspuesta"
      ]
    },
    {
      "cell_type": "code",
      "execution_count": null,
      "metadata": {
        "id": "qJKLEqVQpJhy"
      },
      "outputs": [],
      "source": [
        "arr.ravel()"
      ]
    },
    {
      "cell_type": "markdown",
      "metadata": {
        "id": "EFFEgaIKpJhy"
      },
      "source": [
        "Numpy ofrece una gran cantidad de **[rutinas de manipulación de arrays](https://docs.scipy.org/doc/numpy/reference/routines.array-manipulation.html)**"
      ]
    },
    {
      "cell_type": "markdown",
      "source": [
        "## **Concatenación y división de arrays**\n",
        "\n",
        "### **Concatenación**\n",
        "\n",
        "La concatenación o unión de dos arrays en NumPy se realiza principalmente utilizando las funciones `np.concatenate`, `np.vstack` y `np.hstack`.\n",
        "\n",
        "La función np.concatenate toma una tupla o lista de arrays como su primer argumento. Aquí te muestro cómo usarla:\n"
      ],
      "metadata": {
        "id": "KdCC9vQqzXWl"
      }
    },
    {
      "cell_type": "markdown",
      "source": [
        "\n",
        "#### **Uso de np.concatenate:**\n",
        "\n",
        "La función np.concatenate se utiliza para concatenar arrays a lo largo de un eje existente."
      ],
      "metadata": {
        "id": "3jbRKS9bzvge"
      }
    },
    {
      "cell_type": "code",
      "source": [
        "# Crear dos arrays\n",
        "arr1 = np.array([[1, 2, 3],\n",
        "                 [4, 5, 6]])\n",
        "\n",
        "arr2 = np.array([[7, 8, 9],\n",
        "                 [10, 11, 12]])"
      ],
      "metadata": {
        "id": "i-I4ZD88z3Ks"
      },
      "execution_count": null,
      "outputs": []
    },
    {
      "cell_type": "code",
      "source": [
        "# Concatenar a lo largo del eje 0 (por filas)\n",
        "result_concat = np.concatenate((arr1, arr2), axis=0)\n",
        "print(\"Concatenación a lo largo del eje 0:\")\n",
        "print(result_concat)\n",
        "# Output:\n",
        "# [[ 1  2  3]\n",
        "#  [ 4  5  6]\n",
        "#  [ 7  8  9]\n",
        "#  [10 11 12]]"
      ],
      "metadata": {
        "id": "m69i64NOzwLt"
      },
      "execution_count": null,
      "outputs": []
    },
    {
      "cell_type": "code",
      "source": [
        "# Concatenar a lo largo del eje 1 (por columnas)\n",
        "result_concat_axis1 = np.concatenate((arr1, arr2), axis=1)\n",
        "print(\"\\nConcatenación a lo largo del eje 1:\")\n",
        "print(result_concat_axis1)\n",
        "# Output:\n",
        "# [[ 1  2  3  7  8  9]\n",
        "#  [ 4  5  6 10 11 12]]"
      ],
      "metadata": {
        "id": "s5oLKWH-z0qc"
      },
      "execution_count": null,
      "outputs": []
    },
    {
      "cell_type": "markdown",
      "source": [
        "Cuando trabajas con arrays multidimensionales, como matrices (que son arrays bidimensionales), los ejes son numerados de la siguiente manera:\n",
        "\n",
        "* **Eje 0 (axis=0):** Se refiere a las filas, ya que es el primer índice en la estructura del array. Por ejemplo, en una matriz de m x n (m filas y n columnas), el primer índice corresponde a las filas.\n",
        "\n",
        "* **Eje 1 (axis=1):** Se refiere a las columnas, ya que es el segundo índice en la estructura del array.\n",
        "\n",
        "Cuando haces np.concatenate((arr1, arr2), axis=0), estás diciendo a NumPy que concatene las matrices arr1 y arr2 **a lo largo del eje de las filas**. Es decir, apilar los arrays de arriba hacia abajo (uno debajo del otro)."
      ],
      "metadata": {
        "id": "IABw4-UuaGT3"
      }
    },
    {
      "cell_type": "markdown",
      "source": [
        "#### **Uso de np.vstack y np.hstack:**\n",
        "Estas funciones proporcionan una forma más específica y explícita de concatenar arrays verticalmente (vstack) u horizontalmente (hstack)."
      ],
      "metadata": {
        "id": "EGs4hnPNz-pc"
      }
    },
    {
      "cell_type": "code",
      "source": [
        "# Usando np.vstack para concatenar verticalmente\n",
        "result_vstack = np.vstack((arr1, arr2))\n",
        "print(\"Concatenación vertical:\")\n",
        "print(result_vstack)\n",
        "# Output:\n",
        "# [[ 1  2  3]\n",
        "#  [ 4  5  6]\n",
        "#  [ 7  8  9]\n",
        "#  [10 11 12]]"
      ],
      "metadata": {
        "id": "FWbYm8Ok0F1o"
      },
      "execution_count": null,
      "outputs": []
    },
    {
      "cell_type": "code",
      "source": [
        "# Usando np.hstack para concatenar horizontalmente\n",
        "result_hstack = np.hstack((arr1, arr2))\n",
        "print(\"\\nConcatenación horizontal:\")\n",
        "print(result_hstack)\n",
        "# Output:\n",
        "# [[ 1  2  3  7  8  9]\n",
        "#  [ 4  5  6 10 11 12]]\n"
      ],
      "metadata": {
        "id": "H4_4iFPH0HT0"
      },
      "execution_count": null,
      "outputs": []
    },
    {
      "cell_type": "markdown",
      "source": [
        "### **Splitting (división)**\n",
        "\n",
        "\n",
        "La operación opuesta a la concatenación es la división, que se implementa mediante las funciones np.split, np.hsplit y np.vsplit. En cada una de estas funciones, podemos pasar una lista de índices que indican los puntos de división:"
      ],
      "metadata": {
        "id": "FdWqUP3v0Q4T"
      }
    },
    {
      "cell_type": "markdown",
      "source": [
        "#### **Uso de np.split:**\n",
        "La función np.split divide un array en múltiples subarrays a lo largo de un eje especificado."
      ],
      "metadata": {
        "id": "9Q4zHqW-0awc"
      }
    },
    {
      "cell_type": "code",
      "source": [
        "arr = np.array([1, 2, 3, 4, 5, 6, 7, 8, 9])\n",
        "\n",
        "# Dividir el array en tres partes en los índices 2 y 5\n",
        "result_split = np.split(arr, [2, 5])\n",
        "print(\"División del array en partes:\")\n",
        "print(result_split)\n",
        "# Output:\n",
        "# [array([1, 2]), array([3, 4, 5]), array([6, 7, 8, 9])]\n"
      ],
      "metadata": {
        "id": "yJGxqo5U0Ltb"
      },
      "execution_count": null,
      "outputs": []
    },
    {
      "cell_type": "markdown",
      "source": [
        "#### **Uso de np.hsplit y np.vsplit:**\n",
        "Estas funciones se utilizan para dividir arrays horizontalmente (hsplit) o verticalmente (vsplit)."
      ],
      "metadata": {
        "id": "kjbob7zJ0muT"
      }
    },
    {
      "cell_type": "code",
      "source": [
        "# Crear un array bidimensional de ejemplo\n",
        "arr_2d = np.array([[1, 2, 3],\n",
        "                   [4, 5, 6],\n",
        "                   [7, 8, 9]])\n",
        "\n",
        "# Dividir el array 2D en dos partes a lo largo del eje horizontal (columnas)\n",
        "result_hsplit = np.hsplit(arr_2d, [2])\n",
        "print(\"\\nDivisión horizontal del array:\")\n",
        "print(result_hsplit)\n",
        "# Output:\n",
        "# [array([[1, 2],\n",
        "#         [4, 5],\n",
        "#         [7, 8]]),\n",
        "#  array([[3],\n",
        "#         [6],\n",
        "#         [9]])]"
      ],
      "metadata": {
        "id": "cyyDdZq30riU"
      },
      "execution_count": null,
      "outputs": []
    },
    {
      "cell_type": "code",
      "source": [
        "# Dividir el array 2D en dos partes a lo largo del eje vertical (filas)\n",
        "result_vsplit = np.vsplit(arr_2d, [2])\n",
        "print(\"\\nDivisión vertical del array:\")\n",
        "print(result_vsplit)\n",
        "# Output:\n",
        "# [array([[1, 2, 3],\n",
        "#         [4, 5, 6]]),\n",
        "#  array([[7, 8, 9]])]"
      ],
      "metadata": {
        "id": "yvW5k86r0tE7"
      },
      "execution_count": null,
      "outputs": []
    },
    {
      "cell_type": "markdown",
      "metadata": {
        "id": "osShsUb8pJhz"
      },
      "source": [
        "## **Indexado**\n",
        "\n",
        "La indexación numpy es bastante sencilla. Ya hemos usado el operador `[idx]`\n"
      ]
    },
    {
      "cell_type": "code",
      "execution_count": 9,
      "metadata": {
        "id": "U2l4e5y_pJhz",
        "colab": {
          "base_uri": "https://localhost:8080/"
        },
        "outputId": "83a8e557-41aa-4e0a-8bf0-940ac5b9427f"
      },
      "outputs": [
        {
          "output_type": "execute_result",
          "data": {
            "text/plain": [
              "np.int64(16)"
            ]
          },
          "metadata": {},
          "execution_count": 9
        }
      ],
      "source": [
        "arr = np.arange(10) ** 2\n",
        "arr[4]"
      ]
    },
    {
      "cell_type": "markdown",
      "metadata": {
        "id": "qqCvFZ4_pJhz"
      },
      "source": [
        "Pero numpy también admite formas más complejas de acceder a los elementos por su índice.\n",
        "\n",
        "### Indexación booleana\n",
        "\n",
        "La indexación booleana utiliza un array de elementos booleanos para recuperar los elementos del array que coinciden con un `True`"
      ]
    },
    {
      "cell_type": "code",
      "execution_count": 10,
      "metadata": {
        "id": "JuhBZdoVpJhz",
        "colab": {
          "base_uri": "https://localhost:8080/"
        },
        "outputId": "2171c5c9-fccd-47b9-a94a-be9f7476addc"
      },
      "outputs": [
        {
          "output_type": "execute_result",
          "data": {
            "text/plain": [
              "array([ True, False,  True, False,  True, False,  True, False,  True,\n",
              "       False])"
            ]
          },
          "metadata": {},
          "execution_count": 10
        }
      ],
      "source": [
        "arr % 2 == 0"
      ]
    },
    {
      "cell_type": "code",
      "execution_count": 11,
      "metadata": {
        "id": "TEYUInc3pJhz",
        "colab": {
          "base_uri": "https://localhost:8080/"
        },
        "outputId": "e70ca4f0-4f9a-4ff6-dbc7-ed70ef348f31"
      },
      "outputs": [
        {
          "output_type": "execute_result",
          "data": {
            "text/plain": [
              "array([ 0,  4, 16, 36, 64])"
            ]
          },
          "metadata": {},
          "execution_count": 11
        }
      ],
      "source": [
        "arr[arr % 2 == 0]  # tener en cuenta que ambos arrays deben tener la misma longitud"
      ]
    },
    {
      "cell_type": "markdown",
      "metadata": {
        "id": "Bs11cBpTpJhz"
      },
      "source": [
        "### **Fancy indexing (Indexación sofisticada)**\n",
        "\n",
        "La indexación sofisticada o fancy indexing en NumPy te permite indexar un array utilizando otros arrays de enteros (o listas). Esto te da mucha flexibilidad para acceder a elementos específicos de un array o para crear subarrays más complejos.\n",
        "\n",
        "En lugar de usar índices simples como array[2] o array[1, 3], puedes pasar un array de enteros o una lista de índices y acceder a múltiples elementos a la vez. Esto es útil cuando necesitas seleccionar varias posiciones o cuando la selección no sigue un patrón regular."
      ]
    },
    {
      "cell_type": "code",
      "source": [
        "arr = np.array([10, 20, 30, 40, 50, 60, 70])\n",
        "\n",
        "# Usar fancy indexing con un array de índices\n",
        "indices = np.array([0, 2, 4])  # Los índices que quiero seleccionar\n",
        "result = arr[indices]  # Selecciono los elementos en las posiciones 0, 2 y 4\n",
        "\n",
        "print(result)"
      ],
      "metadata": {
        "id": "3amyLdi-bCZK"
      },
      "execution_count": null,
      "outputs": []
    },
    {
      "cell_type": "code",
      "source": [
        "arr_2d = np.array([[1, 2, 3],\n",
        "                   [4, 5, 6],\n",
        "                   [7, 8, 9]])\n",
        "\n",
        "# Selección de elementos de diferentes filas y columnas\n",
        "rows = np.array([0, 1])  # Filas 0 y 1\n",
        "cols = np.array([1, 2])  # Columnas 1 y 2\n",
        "result = arr_2d[rows, cols]\n",
        "\n",
        "print(result)"
      ],
      "metadata": {
        "id": "iZ5pDdgVbLXI"
      },
      "execution_count": null,
      "outputs": []
    },
    {
      "cell_type": "markdown",
      "source": [
        "Devuelve una copia de los elementos seleccionados, no una vista. Esto significa que si modificas el array resultante, no se verá reflejado en el array original."
      ],
      "metadata": {
        "id": "YeYO42q8bPo9"
      }
    },
    {
      "cell_type": "markdown",
      "metadata": {
        "id": "fKSPHo_gpJh0"
      },
      "source": [
        "## Iterando sobre arrays\n",
        "\n",
        "No es la mejor idea usar un bucle `for` sobre un array numpy. Pero si eres perezoso para vectorizar tu algoritmo...\n",
        "\n",
        "o para llenar arrays vacíos con datos:"
      ]
    },
    {
      "cell_type": "code",
      "execution_count": null,
      "metadata": {
        "id": "rlJj0oy1pJh0"
      },
      "outputs": [],
      "source": [
        "arr = np.arange(12).reshape(3,4)  # define un 3x4 array\n",
        "\n",
        "for row in arr:\n",
        "    print(row)"
      ]
    },
    {
      "cell_type": "code",
      "execution_count": null,
      "metadata": {
        "id": "aU3PZ0OVpJh0"
      },
      "outputs": [],
      "source": [
        "for e in arr.flat:\n",
        "    print(e)"
      ]
    },
    {
      "cell_type": "code",
      "execution_count": null,
      "metadata": {
        "id": "34xf24RJpJh0"
      },
      "outputs": [],
      "source": [
        "a = np.empty(10)\n",
        "\n",
        "for i in range(len(a)):\n",
        "    a[i] = np.pi/(i+1)\n",
        "\n",
        "print(a)"
      ]
    },
    {
      "cell_type": "markdown",
      "metadata": {
        "id": "milgTMQDpJh0"
      },
      "source": [
        "## **Números aleatorios y muestreo**\n",
        "\n",
        "### **Generadores de números pseudoaleatorios**\n",
        "\n",
        "Muestra de distribución uniforme con `rand`"
      ]
    },
    {
      "cell_type": "code",
      "execution_count": null,
      "metadata": {
        "id": "knJdBXCBpJh0"
      },
      "outputs": [],
      "source": [
        "np.random.rand(5)"
      ]
    },
    {
      "cell_type": "markdown",
      "metadata": {
        "id": "Rpf4sewFpJh0"
      },
      "source": [
        "Muestra de la distribución normal estándar con `randn` o `standard_normal`. Usa `normal` para especificar los parámetros"
      ]
    },
    {
      "cell_type": "code",
      "execution_count": null,
      "metadata": {
        "id": "YXXyxElIpJh1"
      },
      "outputs": [],
      "source": [
        "np.random.standard_normal(4)"
      ]
    },
    {
      "cell_type": "markdown",
      "metadata": {
        "id": "oPiWMirupJh1"
      },
      "source": [
        "Enteros aleatorios con `randint`"
      ]
    },
    {
      "cell_type": "code",
      "execution_count": null,
      "metadata": {
        "id": "aCVWY085pJh1"
      },
      "outputs": [],
      "source": [
        "np.random.randint(low=-5, high=5, size=(3,3))"
      ]
    },
    {
      "cell_type": "markdown",
      "metadata": {
        "id": "tMSKjpYypJh1"
      },
      "source": [
        "### Muestreo\n",
        "\n"
      ]
    },
    {
      "cell_type": "code",
      "execution_count": null,
      "metadata": {
        "id": "vml8Y90jpJh1"
      },
      "outputs": [],
      "source": [
        "a = np.arange(10)\n",
        "np.random.choice(a, 3)"
      ]
    },
    {
      "cell_type": "markdown",
      "metadata": {
        "id": "5V0wbWG2pJh1"
      },
      "source": [
        "## **Producto escalar (punto) en Python puro vs Numpy**\n",
        "\n",
        "El producto escalar de dos vectores **a** = [a1, a2, ..., an] y **b** = [b1, b2, ..., bn] se define como:\n",
        "$$ \\mathbf{a} \\cdot \\mathbf {b} =\\sum _{i=1}^{n}a_{i}b_{i}=a_{1}b_{1}+a_{2}b_{2}+\\cdots +a_{n}b_{n} $$"
      ]
    },
    {
      "cell_type": "code",
      "execution_count": null,
      "metadata": {
        "id": "xN3t9qY6pJh1"
      },
      "outputs": [],
      "source": [
        "# definimos vectores [0,1,2...n]\n",
        "n = 100000\n",
        "\n",
        "# vectores como listas\n",
        "vec1 = list(range(n))\n",
        "vec2 = list(range(n))\n",
        "\n",
        "# vectores como arrays de numpy\n",
        "arr1 = np.arange(n, dtype='int32')\n",
        "arr2 = np.arange(n, dtype='int32')\n",
        "\n",
        "assert arr1.tolist() == vec1\n",
        "assert arr2.tolist() == vec2"
      ]
    },
    {
      "cell_type": "code",
      "execution_count": null,
      "metadata": {
        "id": "z10E8GitpJh2"
      },
      "outputs": [],
      "source": [
        "# Implementación con Python puro\n",
        "def dot_product(v1, v2):\n",
        "\n",
        "    assert len(v1) == len(v2)\n",
        "    result = 0\n",
        "    for i in  range(len(v1)):\n",
        "        result += v1[i] * v2[i]\n",
        "\n",
        "    return result"
      ]
    },
    {
      "cell_type": "code",
      "execution_count": null,
      "metadata": {
        "id": "mNE04Zq2pJh2"
      },
      "outputs": [],
      "source": [
        "dot_product(vec1, vec2) == np.dot(arr1, arr2)"
      ]
    },
    {
      "cell_type": "markdown",
      "metadata": {
        "id": "YYm-sqRXpJh2"
      },
      "source": [
        "!Nos da que no es lo mismo! ¿Qué pasa?"
      ]
    },
    {
      "cell_type": "code",
      "execution_count": null,
      "metadata": {
        "id": "pUVd2HRspJh2"
      },
      "outputs": [],
      "source": [
        "dot_product(vec1, vec2) == np.dot(arr1, arr2)"
      ]
    },
    {
      "cell_type": "markdown",
      "source": [
        "Sin embargo, el producto escalar está implementado correctamente. ¿Por qué da resultados diferentes?"
      ],
      "metadata": {
        "id": "A__snOWzM-EC"
      }
    },
    {
      "cell_type": "code",
      "execution_count": null,
      "metadata": {
        "id": "NALUm9EcpJh3"
      },
      "outputs": [],
      "source": [
        "python_result = dot_product(vec1, vec2)\n",
        "python_result"
      ]
    },
    {
      "cell_type": "code",
      "execution_count": null,
      "metadata": {
        "id": "5HvdWdPwpJh3"
      },
      "outputs": [],
      "source": [
        "numpy_result = np.dot(arr1, arr2)\n",
        "numpy_result"
      ]
    },
    {
      "cell_type": "markdown",
      "metadata": {
        "id": "TLeqMZtDpJh3"
      },
      "source": [
        "El problema es que los elementos de `arr1` y `arr2` son [`int32`, enteros de 32 bits](https://docs.scipy.org/doc/numpy/user/basics.types.html)!"
      ]
    },
    {
      "cell_type": "code",
      "execution_count": null,
      "metadata": {
        "id": "cQ0LFSYMpJh3"
      },
      "outputs": [],
      "source": [
        "arr1.dtype"
      ]
    },
    {
      "cell_type": "code",
      "execution_count": null,
      "metadata": {
        "scrolled": true,
        "id": "wFjAmAI5pJh3"
      },
      "outputs": [],
      "source": [
        "print('min machine limit for int32: {:.4e}'.format(np.iinfo(np.int32).min))\n",
        "print('max machine limit for int32: {:.4e}'.format(np.iinfo(np.int32).max))"
      ]
    },
    {
      "cell_type": "code",
      "execution_count": null,
      "metadata": {
        "id": "q0T0h_iKpJh3"
      },
      "outputs": [],
      "source": [
        "int64_min = float(np.iinfo(np.int64).min)\n",
        "int64_max = float(np.iinfo(np.int64).max)\n",
        "\n",
        "print('min machine limit for int64: {:.4e}'.format(int64_min, 20))\n",
        "print('max machine limit for int64: {:.4e}'.format(int64_max, 1))"
      ]
    },
    {
      "cell_type": "markdown",
      "metadata": {
        "id": "olbLs1MqpJh3"
      },
      "source": [
        "Las rutinas numpy están tipeadas, por lo que tenemos que cambiar el dtype de nuestros arrays numpy para evitar el desbordamiento (overflow), ocurre cuando el resultado de una operación aritmética excede el rango numérico que puede ser representado por el tipo de dato utilizado para almacenar el resultado.."
      ]
    },
    {
      "cell_type": "code",
      "execution_count": null,
      "metadata": {
        "id": "FGtKsUbzpJh3"
      },
      "outputs": [],
      "source": [
        "arr1 = np.arange(n, dtype=np.int64)\n",
        "arr2 = np.arange(n, dtype=np.int64)\n",
        "\n",
        "dot_product(vec1, vec2) == np.dot(arr1, arr2)"
      ]
    },
    {
      "cell_type": "code",
      "execution_count": null,
      "metadata": {
        "id": "vTVqK9zfpJh4"
      },
      "outputs": [],
      "source": [
        "%timeit dot_product(vec1, vec2)"
      ]
    },
    {
      "cell_type": "code",
      "execution_count": null,
      "metadata": {
        "id": "s8D1v0gPpJh4"
      },
      "outputs": [],
      "source": [
        "%timeit np.dot(arr1, arr2)"
      ]
    },
    {
      "cell_type": "markdown",
      "metadata": {
        "id": "enwosgNFpJh4"
      },
      "source": [
        "El desbordamiento puede causar problemas realmente grandes:\n",
        "> Un **desbordamiento aritmético** no controlado en el software de dirección del motor fue la **causa principal del accidente del vuelo inaugural de 1996 del cohete Ariane 5**. El software se había considerado libre de errores ya que se había utilizado en muchos vuelos anteriores, pero estos usaban cohetes más pequeños que generaban una aceleración más baja que el Ariane 5.\n",
        "\n",
        "[Fuente](https://en.wikipedia.org/wiki/Integer_overflow#cite_note-24)"
      ]
    },
    {
      "cell_type": "code",
      "execution_count": null,
      "metadata": {
        "id": "EpZTPqGGpJh4"
      },
      "outputs": [],
      "source": [
        "np.matmul(arr1, arr2)"
      ]
    },
    {
      "cell_type": "markdown",
      "metadata": {
        "id": "zI33QjdtpJh4"
      },
      "source": [
        "## **Broadcasting**\n",
        "\n",
        "El broadcasting en NumPy es una poderosa característica que permite realizar operaciones matemáticas entre arrays de diferentes tamaños y formas (shapes), haciendo que se adapten (o \"se transmitan\") de manera eficiente sin necesidad de hacer copias de los datos. Esto mejora el rendimiento de las operaciones, evitando el uso de bucles en Python y realizando las operaciones en el nivel de C, mucho más rápido.\n",
        "\n",
        "### **¿Cómo funciona el Broadcasting?**\n",
        "El broadcasting permite que arrays de diferentes formas sean operados juntos de manera \"automática\", siempre que cumplan ciertas reglas para que sus dimensiones sean compatibles. El array más pequeño se \"expande\" para coincidir con las dimensiones del array más grande, permitiendo la operación entre ellos.\n",
        "\n",
        "<img src=\"https://i.stack.imgur.com/JcKv1.png\"  style=\"width: 700px;\"/>\n",
        "\n"
      ]
    },
    {
      "cell_type": "markdown",
      "metadata": {
        "id": "1QNa3JrlpJh4"
      },
      "source": [
        "**Sin** broadcasting:"
      ]
    },
    {
      "cell_type": "code",
      "execution_count": 15,
      "metadata": {
        "id": "GdeRl5cQpJh5",
        "colab": {
          "base_uri": "https://localhost:8080/"
        },
        "outputId": "4b968b73-c01b-43a8-e3fe-665056e41b5e"
      },
      "outputs": [
        {
          "output_type": "execute_result",
          "data": {
            "text/plain": [
              "(3, 3)"
            ]
          },
          "metadata": {},
          "execution_count": 15
        }
      ],
      "source": [
        "a = np.tile([0,10,20], (3,1))\n",
        "a.shape"
      ]
    },
    {
      "cell_type": "code",
      "source": [
        "a"
      ],
      "metadata": {
        "id": "kH9QtJGc2g18",
        "colab": {
          "base_uri": "https://localhost:8080/"
        },
        "outputId": "f7239c4d-041d-4a3c-c17d-e498f57d5901"
      },
      "execution_count": 16,
      "outputs": [
        {
          "output_type": "execute_result",
          "data": {
            "text/plain": [
              "array([[ 0, 10, 20],\n",
              "       [ 0, 10, 20],\n",
              "       [ 0, 10, 20]])"
            ]
          },
          "metadata": {},
          "execution_count": 16
        }
      ]
    },
    {
      "cell_type": "code",
      "execution_count": 17,
      "metadata": {
        "id": "WYtlLZkzpJh5",
        "colab": {
          "base_uri": "https://localhost:8080/"
        },
        "outputId": "173112ab-9599-43d4-94df-a609d9fd524b"
      },
      "outputs": [
        {
          "output_type": "execute_result",
          "data": {
            "text/plain": [
              "(3, 3)"
            ]
          },
          "metadata": {},
          "execution_count": 17
        }
      ],
      "source": [
        "b = np.tile([0,1,2],(3,1)).T\n",
        "b.shape"
      ]
    },
    {
      "cell_type": "code",
      "source": [
        "b"
      ],
      "metadata": {
        "id": "QaKHOiQ22iif",
        "colab": {
          "base_uri": "https://localhost:8080/"
        },
        "outputId": "072a27c6-8206-44d8-e012-01b47e8490ca"
      },
      "execution_count": 18,
      "outputs": [
        {
          "output_type": "execute_result",
          "data": {
            "text/plain": [
              "array([[0, 0, 0],\n",
              "       [1, 1, 1],\n",
              "       [2, 2, 2]])"
            ]
          },
          "metadata": {},
          "execution_count": 18
        }
      ]
    },
    {
      "cell_type": "code",
      "execution_count": 19,
      "metadata": {
        "id": "c0CQMxWmpJh5"
      },
      "outputs": [],
      "source": [
        "res1 = a + b"
      ]
    },
    {
      "cell_type": "code",
      "execution_count": 20,
      "metadata": {
        "id": "yd_EOYpgpJh5",
        "colab": {
          "base_uri": "https://localhost:8080/"
        },
        "outputId": "ac38dc8f-6304-4d43-e3a4-f5421d81eae5"
      },
      "outputs": [
        {
          "output_type": "execute_result",
          "data": {
            "text/plain": [
              "array([[ 0, 10, 20],\n",
              "       [ 1, 11, 21],\n",
              "       [ 2, 12, 22]])"
            ]
          },
          "metadata": {},
          "execution_count": 20
        }
      ],
      "source": [
        "res1\n"
      ]
    },
    {
      "cell_type": "markdown",
      "metadata": {
        "id": "dy_CL6lxpJh5"
      },
      "source": [
        "**Broadcasting `b`**"
      ]
    },
    {
      "cell_type": "code",
      "execution_count": null,
      "metadata": {
        "id": "cStF6ofKpJh6"
      },
      "outputs": [],
      "source": [
        "b = np.array([0,1,2])[:, np.newaxis]\n",
        "b.shape"
      ]
    },
    {
      "cell_type": "code",
      "execution_count": null,
      "metadata": {
        "id": "CCU-MFgkpJh6"
      },
      "outputs": [],
      "source": [
        "b"
      ]
    },
    {
      "cell_type": "code",
      "execution_count": null,
      "metadata": {
        "id": "3viU4CM1pJh6"
      },
      "outputs": [],
      "source": [
        "res2 = a + b"
      ]
    },
    {
      "cell_type": "code",
      "execution_count": null,
      "metadata": {
        "id": "6o-FaTn8pJh6"
      },
      "outputs": [],
      "source": [
        "res2"
      ]
    },
    {
      "cell_type": "markdown",
      "metadata": {
        "id": "RMpQi7DLpJh6"
      },
      "source": [
        "**Broadcasting `a` and `b`**"
      ]
    },
    {
      "cell_type": "code",
      "execution_count": null,
      "metadata": {
        "id": "Q2_XxA8RpJh6"
      },
      "outputs": [],
      "source": [
        "a = np.array([0,10,20])\n",
        "a.shape"
      ]
    },
    {
      "cell_type": "code",
      "execution_count": null,
      "metadata": {
        "id": "FIDy1HXCpJh6"
      },
      "outputs": [],
      "source": [
        "a"
      ]
    },
    {
      "cell_type": "code",
      "execution_count": null,
      "metadata": {
        "id": "NsZI-FJhpJh6"
      },
      "outputs": [],
      "source": [
        "b.shape"
      ]
    },
    {
      "cell_type": "code",
      "execution_count": null,
      "metadata": {
        "id": "nqt7daDapJh6"
      },
      "outputs": [],
      "source": [
        "res3 = a + b"
      ]
    },
    {
      "cell_type": "code",
      "execution_count": null,
      "metadata": {
        "id": "Mxl-GU01pJh7"
      },
      "outputs": [],
      "source": [
        "assert np.array_equal(res1, res2) and np.array_equal(res2, res3)"
      ]
    },
    {
      "cell_type": "markdown",
      "metadata": {
        "id": "Vuk0fQ89pJh7"
      },
      "source": [
        "## **Multiplicación de matrices**\n",
        "\n",
        "<img src=\"https://upload.wikimedia.org/wikipedia/commons/thumb/e/eb/Matrix_multiplication_diagram_2.svg/313px-Matrix_multiplication_diagram_2.svg.png\" alt=\"Drawing\" style=\"width: 300px;\"/>\n"
      ]
    },
    {
      "cell_type": "markdown",
      "source": [
        "#### Multiplicación de Matrices sin Broadcasting:\n",
        "\n",
        "En la multiplicación de matrices convencional (sin broadcasting), las dimensiones de las matrices deben ser compatibles según las reglas algebraicas. Específicamente, el número de columnas en la primera matriz debe ser igual al número de filas en la segunda matriz.\n",
        "\n",
        "Por ejemplo, si tenemos dos matrices A y B y queremos multiplicarlas sin broadcasting, podemos hacerlo de la siguiente manera en NumPy:"
      ],
      "metadata": {
        "id": "KfK4pyFf3djB"
      }
    },
    {
      "cell_type": "code",
      "source": [
        "import numpy as np\n",
        "\n",
        "# Definir dos matrices\n",
        "A = np.array([[1, 2],\n",
        "              [3, 4]])\n",
        "\n",
        "B = np.array([[5, 6],\n",
        "              [7, 8]])\n",
        "\n",
        "# Multiplicar matrices sin broadcasting\n",
        "C = np.dot(A, B)\n",
        "\n",
        "print(C)\n"
      ],
      "metadata": {
        "id": "qYnpZvRy3goU",
        "colab": {
          "base_uri": "https://localhost:8080/"
        },
        "outputId": "add6502f-fe55-4435-dd55-7c2db0d3c4cf"
      },
      "execution_count": 21,
      "outputs": [
        {
          "output_type": "stream",
          "name": "stdout",
          "text": [
            "[[19 22]\n",
            " [43 50]]\n"
          ]
        }
      ]
    },
    {
      "cell_type": "markdown",
      "source": [
        "#### **Multiplicación de Matrices con Broadcasting:**\n",
        "\n",
        "El broadcasting en NumPy permite realizar operaciones entre matrices con diferentes formas de manera automática, extendiendo las dimensiones de los arrays más pequeños para que coincidan con las dimensiones de los arrays más grandes según las reglas de broadcasting mencionadas anteriormente.\n",
        "\n",
        "Para realizar la multiplicación de matrices con broadcasting en NumPy, podemos utilizar el concepto de multiplicación elemento por elemento (*) en lugar de np.dot():"
      ],
      "metadata": {
        "id": "nAewVdsX3mqX"
      }
    },
    {
      "cell_type": "code",
      "source": [
        "import numpy as np\n",
        "\n",
        "# Definir dos matrices\n",
        "A = np.array([[1, 2],\n",
        "              [3, 4]])\n",
        "\n",
        "B = np.array([[5],\n",
        "              [6]])\n",
        "\n",
        "# Multiplicar matrices con broadcasting\n",
        "C = A * B\n",
        "\n",
        "print(C)\n"
      ],
      "metadata": {
        "id": "NaSOODLE3sQS"
      },
      "execution_count": null,
      "outputs": []
    },
    {
      "cell_type": "markdown",
      "source": [
        "En este ejemplo, A es una matriz 2x2 y B es una matriz 2x1. NumPy aplicará broadcasting para expandir B a una matriz 2x2 para que coincida con A, y luego realizará la multiplicación elemento por elemento entre A y B:"
      ],
      "metadata": {
        "id": "P5XI8lTr33tn"
      }
    },
    {
      "cell_type": "markdown",
      "source": [
        "En resumen, la multiplicación de matrices sin broadcasting (np.dot()) sigue las reglas estándar de álgebra lineal, mientras que la multiplicación de matrices con broadcasting (*) en NumPy extiende automáticamente las dimensiones de los arrays más pequeños para realizar operaciones eficientes entre arrays de diferentes formas. El broadcasting es una característica poderosa en NumPy que simplifica y acelera el código para operaciones vectorizadas en arrays multidimensionales."
      ],
      "metadata": {
        "id": "Yia44z7B3-M6"
      }
    }
  ],
  "metadata": {
    "kernelspec": {
      "display_name": "Python 3",
      "language": "python",
      "name": "python3"
    },
    "language_info": {
      "codemirror_mode": {
        "name": "ipython",
        "version": 3
      },
      "file_extension": ".py",
      "mimetype": "text/x-python",
      "name": "python",
      "nbconvert_exporter": "python",
      "pygments_lexer": "ipython3",
      "version": "3.8.3"
    },
    "colab": {
      "provenance": []
    }
  },
  "nbformat": 4,
  "nbformat_minor": 0
}